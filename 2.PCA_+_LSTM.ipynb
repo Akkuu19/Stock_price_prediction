{
 "cells": [
  {
   "cell_type": "markdown",
   "metadata": {
    "id": "ZM9x0IGpV2MD"
   },
   "source": [
    "### Data Pulling"
   ]
  },
  {
   "cell_type": "code",
   "execution_count": 317,
   "metadata": {
    "colab": {
     "base_uri": "https://localhost:8080/"
    },
    "id": "VPJRYLd_VoYt",
    "outputId": "3c7a931e-a58f-449b-b548-5a5e962c33a7"
   },
   "outputs": [
    {
     "name": "stdout",
     "output_type": "stream",
     "text": [
      "<class 'pandas.core.frame.DataFrame'>\n",
      "RangeIndex: 6290 entries, 0 to 6289\n",
      "Data columns (total 3 columns):\n",
      " #   Column  Non-Null Count  Dtype         \n",
      "---  ------  --------------  -----         \n",
      " 0   Date    6290 non-null   datetime64[ns]\n",
      " 1   Index   6290 non-null   object        \n",
      " 2   Close   6290 non-null   float64       \n",
      "dtypes: datetime64[ns](1), float64(1), object(1)\n",
      "memory usage: 147.5+ KB\n"
     ]
    }
   ],
   "source": [
    "import pandas as pd\n",
    "import numpy as np\n",
    "import matplotlib.pyplot as plt\n",
    "import seaborn as sns\n",
    "%matplotlib inline\n",
    "\n",
    "df = pd.read_csv('stock_test.csv')\n",
    "df[\"DailyRet\"] = 0\n",
    "df[\"20DayRet\"] = 0\n",
    "df[\"20DayVol\"] = 0\n",
    "df[\"Z20DayRet\"] = 0\n",
    "df['Z20DayVol'] = 0\n",
    "df['Date']= pd.to_datetime(df['Date'])\n",
    "df_close = df[['Date', 'Index', 'Close']] \n",
    "df_close.info()\n",
    "df_close = df_close.pivot_table(index = 'Date', columns = 'Index', values = 'Close').dropna(axis=1)\n",
    "stocks_tickers = df_close.columns"
   ]
  },
  {
   "cell_type": "code",
   "execution_count": 318,
   "metadata": {
    "id": "_i1A4L8-M9Yf"
   },
   "outputs": [],
   "source": [
    "#Saving Trading Days\n",
    "dates = df_close.index\n",
    "\n",
    "#Saving Stocks\n",
    "stocks = df_close.columns"
   ]
  },
  {
   "cell_type": "markdown",
   "metadata": {
    "id": "z1z2hA7Ca2Uu"
   },
   "source": [
    "# Feature Engineering"
   ]
  },
  {
   "cell_type": "code",
   "execution_count": 319,
   "metadata": {
    "colab": {
     "base_uri": "https://localhost:8080/",
     "height": 400
    },
    "id": "JRy3b1HGa5pJ",
    "outputId": "39271602-cdef-4339-a4fe-be68e59e4918"
   },
   "outputs": [
    {
     "name": "stderr",
     "output_type": "stream",
     "text": [
      "C:\\Users\\mayan\\AppData\\Local\\Temp\\ipykernel_12660\\2374922505.py:1: FutureWarning: The previous implementation of stack is deprecated and will be removed in a future version of pandas. See the What's New notes for pandas 2.1.0 for details. Specify future_stack=True to adopt the new implementation and silence this warning.\n",
      "  raw_df = df.drop(columns = ['Unnamed: 0']).set_index(['Date' , 'Index']).unstack(level = 1).stack(level = 0).unstack()\n"
     ]
    },
    {
     "data": {
      "text/html": [
       "<div>\n",
       "<style scoped>\n",
       "    .dataframe tbody tr th:only-of-type {\n",
       "        vertical-align: middle;\n",
       "    }\n",
       "\n",
       "    .dataframe tbody tr th {\n",
       "        vertical-align: top;\n",
       "    }\n",
       "\n",
       "    .dataframe thead tr th {\n",
       "        text-align: left;\n",
       "    }\n",
       "\n",
       "    .dataframe thead tr:last-of-type th {\n",
       "        text-align: right;\n",
       "    }\n",
       "</style>\n",
       "<table border=\"1\" class=\"dataframe\">\n",
       "  <thead>\n",
       "    <tr>\n",
       "      <th>Index</th>\n",
       "      <th colspan=\"10\" halign=\"left\">AAPL</th>\n",
       "      <th>...</th>\n",
       "      <th colspan=\"10\" halign=\"left\">IBM</th>\n",
       "    </tr>\n",
       "    <tr>\n",
       "      <th></th>\n",
       "      <th>20DayRet</th>\n",
       "      <th>20DayVol</th>\n",
       "      <th>Adjusted</th>\n",
       "      <th>Close</th>\n",
       "      <th>DailyRet</th>\n",
       "      <th>High</th>\n",
       "      <th>Low</th>\n",
       "      <th>Open</th>\n",
       "      <th>Volume</th>\n",
       "      <th>Z20DayRet</th>\n",
       "      <th>...</th>\n",
       "      <th>20DayVol</th>\n",
       "      <th>Adjusted</th>\n",
       "      <th>Close</th>\n",
       "      <th>DailyRet</th>\n",
       "      <th>High</th>\n",
       "      <th>Low</th>\n",
       "      <th>Open</th>\n",
       "      <th>Volume</th>\n",
       "      <th>Z20DayRet</th>\n",
       "      <th>Z20DayVol</th>\n",
       "    </tr>\n",
       "    <tr>\n",
       "      <th>Date</th>\n",
       "      <th></th>\n",
       "      <th></th>\n",
       "      <th></th>\n",
       "      <th></th>\n",
       "      <th></th>\n",
       "      <th></th>\n",
       "      <th></th>\n",
       "      <th></th>\n",
       "      <th></th>\n",
       "      <th></th>\n",
       "      <th></th>\n",
       "      <th></th>\n",
       "      <th></th>\n",
       "      <th></th>\n",
       "      <th></th>\n",
       "      <th></th>\n",
       "      <th></th>\n",
       "      <th></th>\n",
       "      <th></th>\n",
       "      <th></th>\n",
       "      <th></th>\n",
       "    </tr>\n",
       "  </thead>\n",
       "  <tbody>\n",
       "    <tr>\n",
       "      <th>2019-06-03</th>\n",
       "      <td>NaN</td>\n",
       "      <td>NaN</td>\n",
       "      <td>41.812840</td>\n",
       "      <td>43.325001</td>\n",
       "      <td>NaN</td>\n",
       "      <td>44.480000</td>\n",
       "      <td>42.567501</td>\n",
       "      <td>43.900002</td>\n",
       "      <td>161584400.0</td>\n",
       "      <td>NaN</td>\n",
       "      <td>...</td>\n",
       "      <td>NaN</td>\n",
       "      <td>96.512863</td>\n",
       "      <td>122.629066</td>\n",
       "      <td>NaN</td>\n",
       "      <td>122.906311</td>\n",
       "      <td>121.472275</td>\n",
       "      <td>121.510513</td>\n",
       "      <td>4463177.0</td>\n",
       "      <td>NaN</td>\n",
       "      <td>NaN</td>\n",
       "    </tr>\n",
       "    <tr>\n",
       "      <th>2019-06-04</th>\n",
       "      <td>NaN</td>\n",
       "      <td>NaN</td>\n",
       "      <td>43.342514</td>\n",
       "      <td>44.910000</td>\n",
       "      <td>0.036584</td>\n",
       "      <td>44.957500</td>\n",
       "      <td>43.630001</td>\n",
       "      <td>43.860001</td>\n",
       "      <td>123872000.0</td>\n",
       "      <td>NaN</td>\n",
       "      <td>...</td>\n",
       "      <td>NaN</td>\n",
       "      <td>99.838554</td>\n",
       "      <td>126.854683</td>\n",
       "      <td>0.034459</td>\n",
       "      <td>126.902489</td>\n",
       "      <td>123.413002</td>\n",
       "      <td>123.862335</td>\n",
       "      <td>4093521.0</td>\n",
       "      <td>NaN</td>\n",
       "      <td>NaN</td>\n",
       "    </tr>\n",
       "    <tr>\n",
       "      <th>2019-06-05</th>\n",
       "      <td>NaN</td>\n",
       "      <td>NaN</td>\n",
       "      <td>44.042225</td>\n",
       "      <td>45.634998</td>\n",
       "      <td>0.016143</td>\n",
       "      <td>46.247501</td>\n",
       "      <td>45.285000</td>\n",
       "      <td>46.070000</td>\n",
       "      <td>119093600.0</td>\n",
       "      <td>NaN</td>\n",
       "      <td>...</td>\n",
       "      <td>NaN</td>\n",
       "      <td>98.935661</td>\n",
       "      <td>125.707458</td>\n",
       "      <td>-0.009044</td>\n",
       "      <td>127.734222</td>\n",
       "      <td>124.732315</td>\n",
       "      <td>127.514343</td>\n",
       "      <td>3306720.0</td>\n",
       "      <td>NaN</td>\n",
       "      <td>NaN</td>\n",
       "    </tr>\n",
       "    <tr>\n",
       "      <th>2019-06-06</th>\n",
       "      <td>NaN</td>\n",
       "      <td>NaN</td>\n",
       "      <td>44.688828</td>\n",
       "      <td>46.305000</td>\n",
       "      <td>0.014682</td>\n",
       "      <td>46.367500</td>\n",
       "      <td>45.537498</td>\n",
       "      <td>45.770000</td>\n",
       "      <td>90105200.0</td>\n",
       "      <td>NaN</td>\n",
       "      <td>...</td>\n",
       "      <td>NaN</td>\n",
       "      <td>99.484909</td>\n",
       "      <td>126.405357</td>\n",
       "      <td>0.005552</td>\n",
       "      <td>126.816444</td>\n",
       "      <td>125.143402</td>\n",
       "      <td>126.376671</td>\n",
       "      <td>2403917.0</td>\n",
       "      <td>NaN</td>\n",
       "      <td>NaN</td>\n",
       "    </tr>\n",
       "    <tr>\n",
       "      <th>2019-06-07</th>\n",
       "      <td>NaN</td>\n",
       "      <td>NaN</td>\n",
       "      <td>45.878304</td>\n",
       "      <td>47.537498</td>\n",
       "      <td>0.026617</td>\n",
       "      <td>47.980000</td>\n",
       "      <td>46.442501</td>\n",
       "      <td>46.627499</td>\n",
       "      <td>122737600.0</td>\n",
       "      <td>NaN</td>\n",
       "      <td>...</td>\n",
       "      <td>NaN</td>\n",
       "      <td>100.305046</td>\n",
       "      <td>127.447418</td>\n",
       "      <td>0.008244</td>\n",
       "      <td>128.795410</td>\n",
       "      <td>126.395790</td>\n",
       "      <td>126.644356</td>\n",
       "      <td>2670856.0</td>\n",
       "      <td>NaN</td>\n",
       "      <td>NaN</td>\n",
       "    </tr>\n",
       "  </tbody>\n",
       "</table>\n",
       "<p>5 rows × 55 columns</p>\n",
       "</div>"
      ],
      "text/plain": [
       "Index          AAPL                                                      \\\n",
       "           20DayRet 20DayVol   Adjusted      Close  DailyRet       High   \n",
       "Date                                                                      \n",
       "2019-06-03      NaN      NaN  41.812840  43.325001       NaN  44.480000   \n",
       "2019-06-04      NaN      NaN  43.342514  44.910000  0.036584  44.957500   \n",
       "2019-06-05      NaN      NaN  44.042225  45.634998  0.016143  46.247501   \n",
       "2019-06-06      NaN      NaN  44.688828  46.305000  0.014682  46.367500   \n",
       "2019-06-07      NaN      NaN  45.878304  47.537498  0.026617  47.980000   \n",
       "\n",
       "Index                                                    ...      IBM  \\\n",
       "                  Low       Open       Volume Z20DayRet  ... 20DayVol   \n",
       "Date                                                     ...            \n",
       "2019-06-03  42.567501  43.900002  161584400.0       NaN  ...      NaN   \n",
       "2019-06-04  43.630001  43.860001  123872000.0       NaN  ...      NaN   \n",
       "2019-06-05  45.285000  46.070000  119093600.0       NaN  ...      NaN   \n",
       "2019-06-06  45.537498  45.770000   90105200.0       NaN  ...      NaN   \n",
       "2019-06-07  46.442501  46.627499  122737600.0       NaN  ...      NaN   \n",
       "\n",
       "Index                                                                 \\\n",
       "              Adjusted       Close  DailyRet        High         Low   \n",
       "Date                                                                   \n",
       "2019-06-03   96.512863  122.629066       NaN  122.906311  121.472275   \n",
       "2019-06-04   99.838554  126.854683  0.034459  126.902489  123.413002   \n",
       "2019-06-05   98.935661  125.707458 -0.009044  127.734222  124.732315   \n",
       "2019-06-06   99.484909  126.405357  0.005552  126.816444  125.143402   \n",
       "2019-06-07  100.305046  127.447418  0.008244  128.795410  126.395790   \n",
       "\n",
       "Index                                                  \n",
       "                  Open     Volume Z20DayRet Z20DayVol  \n",
       "Date                                                   \n",
       "2019-06-03  121.510513  4463177.0       NaN       NaN  \n",
       "2019-06-04  123.862335  4093521.0       NaN       NaN  \n",
       "2019-06-05  127.514343  3306720.0       NaN       NaN  \n",
       "2019-06-06  126.376671  2403917.0       NaN       NaN  \n",
       "2019-06-07  126.644356  2670856.0       NaN       NaN  \n",
       "\n",
       "[5 rows x 55 columns]"
      ]
     },
     "execution_count": 319,
     "metadata": {},
     "output_type": "execute_result"
    }
   ],
   "source": [
    "raw_df = df.drop(columns = ['Unnamed: 0']).set_index(['Date' , 'Index']).unstack(level = 1).stack(level = 0).unstack()\n",
    "raw_df = raw_df.dropna(axis = 1)\n",
    "for stock in stocks_tickers:\n",
    "  #Calculate Daily Returns\n",
    "  raw_df.loc[:, (stock, 'DailyRet')] = raw_df[stock][\"Close\"].pct_change()\n",
    "  #Calculate 20-Day Returns\n",
    "  raw_df.loc[:, (stock, '20DayRet')] = raw_df[stock][\"Close\"].pct_change(20)\n",
    "  #Calculate Rolling 20 day volatility \n",
    "  roller = raw_df[stock][\"DailyRet\"].rolling(20)\n",
    "  raw_df.loc[:, (stock, '20DayVol')] = roller.std(ddof=0)\n",
    "  \n",
    "  '''Normalize data with the rolling 252'''\n",
    "  #Normalize 20 Day Returns \n",
    "  rolling_year_ret = raw_df[stock][\"20DayRet\"].rolling(252)\n",
    "  raw_df.loc[:, (stock, 'Z20DayRet')] = (rolling_year_ret.mean().shift(1) - raw_df[stock]['20DayRet']) / rolling_year_ret.std(ddof=0).shift(1)\n",
    "  #Normalize 20 Day Volatility\n",
    "  rolling_year_vol = raw_df[stock][\"20DayVol\"].rolling(252)\n",
    "  raw_df.loc[:, (stock, 'Z20DayVol')] = (rolling_year_vol.mean().shift(1) - raw_df[stock]['20DayVol']) / rolling_year_vol.std(ddof=0).shift(1) \n",
    "\n",
    "raw_df.head(5)  "
   ]
  },
  {
   "cell_type": "code",
   "execution_count": 320,
   "metadata": {
    "id": "2nvpS5W4aMzV"
   },
   "outputs": [],
   "source": [
    "#DROP ROWS WITH NA vals \n",
    "full_feature_dataset = raw_df.dropna(axis=0)"
   ]
  },
  {
   "cell_type": "code",
   "execution_count": 321,
   "metadata": {
    "id": "luQBo0Acaw9e"
   },
   "outputs": [
    {
     "name": "stdout",
     "output_type": "stream",
     "text": [
      "Columns in raw_df: MultiIndex([( 'AAPL',  '20DayRet'),\n",
      "            ( 'AAPL',  '20DayVol'),\n",
      "            ( 'AAPL',  'Adjusted'),\n",
      "            ( 'AAPL',     'Close'),\n",
      "            ( 'AAPL',  'DailyRet'),\n",
      "            ( 'AAPL',      'High'),\n",
      "            ( 'AAPL',       'Low'),\n",
      "            ( 'AAPL',      'Open'),\n",
      "            ( 'AAPL',    'Volume'),\n",
      "            ( 'AAPL', 'Z20DayRet'),\n",
      "            ( 'AAPL', 'Z20DayVol'),\n",
      "            (  'AMD',  '20DayRet'),\n",
      "            (  'AMD',  '20DayVol'),\n",
      "            (  'AMD',  'Adjusted'),\n",
      "            (  'AMD',     'Close'),\n",
      "            (  'AMD',  'DailyRet'),\n",
      "            (  'AMD',      'High'),\n",
      "            (  'AMD',       'Low'),\n",
      "            (  'AMD',      'Open'),\n",
      "            (  'AMD',    'Volume'),\n",
      "            (  'AMD', 'Z20DayRet'),\n",
      "            (  'AMD', 'Z20DayVol'),\n",
      "            ( 'AMZN',  '20DayRet'),\n",
      "            ( 'AMZN',  '20DayVol'),\n",
      "            ( 'AMZN',  'Adjusted'),\n",
      "            ( 'AMZN',     'Close'),\n",
      "            ( 'AMZN',  'DailyRet'),\n",
      "            ( 'AMZN',      'High'),\n",
      "            ( 'AMZN',       'Low'),\n",
      "            ( 'AMZN',      'Open'),\n",
      "            ( 'AMZN',    'Volume'),\n",
      "            ( 'AMZN', 'Z20DayRet'),\n",
      "            ( 'AMZN', 'Z20DayVol'),\n",
      "            ('GOOGL',  '20DayRet'),\n",
      "            ('GOOGL',  '20DayVol'),\n",
      "            ('GOOGL',  'Adjusted'),\n",
      "            ('GOOGL',     'Close'),\n",
      "            ('GOOGL',  'DailyRet'),\n",
      "            ('GOOGL',      'High'),\n",
      "            ('GOOGL',       'Low'),\n",
      "            ('GOOGL',      'Open'),\n",
      "            ('GOOGL',    'Volume'),\n",
      "            ('GOOGL', 'Z20DayRet'),\n",
      "            ('GOOGL', 'Z20DayVol'),\n",
      "            (  'IBM',  '20DayRet'),\n",
      "            (  'IBM',  '20DayVol'),\n",
      "            (  'IBM',  'Adjusted'),\n",
      "            (  'IBM',     'Close'),\n",
      "            (  'IBM',  'DailyRet'),\n",
      "            (  'IBM',      'High'),\n",
      "            (  'IBM',       'Low'),\n",
      "            (  'IBM',      'Open'),\n",
      "            (  'IBM',    'Volume'),\n",
      "            (  'IBM', 'Z20DayRet'),\n",
      "            (  'IBM', 'Z20DayVol')],\n",
      "           names=['Index', None])\n",
      "Empty DataFrame\n",
      "Columns: []\n",
      "Index: [2019-06-03 00:00:00, 2019-06-04 00:00:00, 2019-06-05 00:00:00, 2019-06-06 00:00:00, 2019-06-07 00:00:00]\n"
     ]
    }
   ],
   "source": [
    "# Correcting the code in cell 5\n",
    "# Print out the columns in raw_df to see what is available\n",
    "print(\"Columns in raw_df:\", raw_df.columns)\n",
    "\n",
    "# Assuming the column names after inspection\n",
    "available_columns = raw_df.columns\n",
    "\n",
    "# Adjusting selection based on available columns\n",
    "selected_columns = ['Open', 'High', 'Low', 'Close', 'Adjusted', 'Volume', 'DailyRet', 'Z20DayRet', 'Z20DayVol']\n",
    "\n",
    "# Ensure only columns that exist in raw_df are selected\n",
    "selected_columns = [col for col in selected_columns if col in available_columns]\n",
    "\n",
    "# Selecting the columns from raw_df\n",
    "full_features = raw_df[selected_columns]\n",
    "\n",
    "# Print the first few rows to verify\n",
    "print(full_features.head())\n",
    "\n"
   ]
  },
  {
   "cell_type": "markdown",
   "metadata": {
    "id": "2LQxCVLguZ8c"
   },
   "source": [
    "# Principal Component Analysis"
   ]
  },
  {
   "cell_type": "code",
   "execution_count": 322,
   "metadata": {
    "colab": {
     "base_uri": "https://localhost:8080/",
     "height": 400
    },
    "id": "8V0L3gkhuixn",
    "outputId": "f37ba04b-4108-4c87-9ba0-c112af2707bc"
   },
   "outputs": [
    {
     "data": {
      "text/html": [
       "<div>\n",
       "<style scoped>\n",
       "    .dataframe tbody tr th:only-of-type {\n",
       "        vertical-align: middle;\n",
       "    }\n",
       "\n",
       "    .dataframe tbody tr th {\n",
       "        vertical-align: top;\n",
       "    }\n",
       "\n",
       "    .dataframe thead tr th {\n",
       "        text-align: left;\n",
       "    }\n",
       "\n",
       "    .dataframe thead tr:last-of-type th {\n",
       "        text-align: right;\n",
       "    }\n",
       "</style>\n",
       "<table border=\"1\" class=\"dataframe\">\n",
       "  <thead>\n",
       "    <tr>\n",
       "      <th>Index</th>\n",
       "      <th colspan=\"10\" halign=\"left\">AAPL</th>\n",
       "      <th>...</th>\n",
       "      <th colspan=\"10\" halign=\"left\">IBM</th>\n",
       "    </tr>\n",
       "    <tr>\n",
       "      <th></th>\n",
       "      <th>20DayRet</th>\n",
       "      <th>20DayVol</th>\n",
       "      <th>Adjusted</th>\n",
       "      <th>Close</th>\n",
       "      <th>DailyRet</th>\n",
       "      <th>High</th>\n",
       "      <th>Low</th>\n",
       "      <th>Open</th>\n",
       "      <th>Volume</th>\n",
       "      <th>Z20DayRet</th>\n",
       "      <th>...</th>\n",
       "      <th>20DayVol</th>\n",
       "      <th>Adjusted</th>\n",
       "      <th>Close</th>\n",
       "      <th>DailyRet</th>\n",
       "      <th>High</th>\n",
       "      <th>Low</th>\n",
       "      <th>Open</th>\n",
       "      <th>Volume</th>\n",
       "      <th>Z20DayRet</th>\n",
       "      <th>Z20DayVol</th>\n",
       "    </tr>\n",
       "    <tr>\n",
       "      <th>Date</th>\n",
       "      <th></th>\n",
       "      <th></th>\n",
       "      <th></th>\n",
       "      <th></th>\n",
       "      <th></th>\n",
       "      <th></th>\n",
       "      <th></th>\n",
       "      <th></th>\n",
       "      <th></th>\n",
       "      <th></th>\n",
       "      <th></th>\n",
       "      <th></th>\n",
       "      <th></th>\n",
       "      <th></th>\n",
       "      <th></th>\n",
       "      <th></th>\n",
       "      <th></th>\n",
       "      <th></th>\n",
       "      <th></th>\n",
       "      <th></th>\n",
       "      <th></th>\n",
       "    </tr>\n",
       "  </thead>\n",
       "  <tbody>\n",
       "    <tr>\n",
       "      <th>2020-06-30</th>\n",
       "      <td>0.128224</td>\n",
       "      <td>0.020333</td>\n",
       "      <td>89.067307</td>\n",
       "      <td>91.199997</td>\n",
       "      <td>0.008348</td>\n",
       "      <td>91.495003</td>\n",
       "      <td>90.000000</td>\n",
       "      <td>90.019997</td>\n",
       "      <td>140223200.0</td>\n",
       "      <td>-0.835767</td>\n",
       "      <td>...</td>\n",
       "      <td>0.028028</td>\n",
       "      <td>95.258324</td>\n",
       "      <td>115.458893</td>\n",
       "      <td>0.008518</td>\n",
       "      <td>115.869980</td>\n",
       "      <td>113.766731</td>\n",
       "      <td>113.948372</td>\n",
       "      <td>4099797.0</td>\n",
       "      <td>0.391729</td>\n",
       "      <td>-0.628146</td>\n",
       "    </tr>\n",
       "    <tr>\n",
       "      <th>2020-07-01</th>\n",
       "      <td>0.119925</td>\n",
       "      <td>0.020411</td>\n",
       "      <td>88.898819</td>\n",
       "      <td>91.027496</td>\n",
       "      <td>-0.001891</td>\n",
       "      <td>91.839996</td>\n",
       "      <td>90.977501</td>\n",
       "      <td>91.279999</td>\n",
       "      <td>110737200.0</td>\n",
       "      <td>-0.747665</td>\n",
       "      <td>...</td>\n",
       "      <td>0.027595</td>\n",
       "      <td>93.499382</td>\n",
       "      <td>113.326958</td>\n",
       "      <td>-0.018465</td>\n",
       "      <td>115.898659</td>\n",
       "      <td>113.164436</td>\n",
       "      <td>114.980881</td>\n",
       "      <td>4869967.0</td>\n",
       "      <td>0.775895</td>\n",
       "      <td>-0.591284</td>\n",
       "    </tr>\n",
       "    <tr>\n",
       "      <th>2020-07-02</th>\n",
       "      <td>0.129654</td>\n",
       "      <td>0.020190</td>\n",
       "      <td>88.898819</td>\n",
       "      <td>91.027496</td>\n",
       "      <td>0.000000</td>\n",
       "      <td>92.617500</td>\n",
       "      <td>90.910004</td>\n",
       "      <td>91.962502</td>\n",
       "      <td>114041600.0</td>\n",
       "      <td>-0.854867</td>\n",
       "      <td>...</td>\n",
       "      <td>0.027751</td>\n",
       "      <td>94.414352</td>\n",
       "      <td>114.435944</td>\n",
       "      <td>0.009786</td>\n",
       "      <td>116.080307</td>\n",
       "      <td>114.015297</td>\n",
       "      <td>114.426384</td>\n",
       "      <td>3919362.0</td>\n",
       "      <td>0.671479</td>\n",
       "      <td>-0.597308</td>\n",
       "    </tr>\n",
       "    <tr>\n",
       "      <th>2020-07-06</th>\n",
       "      <td>0.127753</td>\n",
       "      <td>0.020098</td>\n",
       "      <td>91.276909</td>\n",
       "      <td>93.462502</td>\n",
       "      <td>0.026750</td>\n",
       "      <td>93.945000</td>\n",
       "      <td>92.467499</td>\n",
       "      <td>92.500000</td>\n",
       "      <td>118655600.0</td>\n",
       "      <td>-0.833322</td>\n",
       "      <td>...</td>\n",
       "      <td>0.027072</td>\n",
       "      <td>94.800842</td>\n",
       "      <td>114.904396</td>\n",
       "      <td>0.004094</td>\n",
       "      <td>116.491394</td>\n",
       "      <td>114.206497</td>\n",
       "      <td>115.917786</td>\n",
       "      <td>4231488.0</td>\n",
       "      <td>0.846822</td>\n",
       "      <td>-0.542056</td>\n",
       "    </tr>\n",
       "    <tr>\n",
       "      <th>2020-07-07</th>\n",
       "      <td>0.117645</td>\n",
       "      <td>0.020201</td>\n",
       "      <td>90.993668</td>\n",
       "      <td>93.172501</td>\n",
       "      <td>-0.003103</td>\n",
       "      <td>94.654999</td>\n",
       "      <td>93.057503</td>\n",
       "      <td>93.852501</td>\n",
       "      <td>112424400.0</td>\n",
       "      <td>-0.720968</td>\n",
       "      <td>...</td>\n",
       "      <td>0.026265</td>\n",
       "      <td>92.742188</td>\n",
       "      <td>112.409180</td>\n",
       "      <td>-0.021716</td>\n",
       "      <td>114.254303</td>\n",
       "      <td>112.170174</td>\n",
       "      <td>113.766731</td>\n",
       "      <td>4474893.0</td>\n",
       "      <td>1.268045</td>\n",
       "      <td>-0.477503</td>\n",
       "    </tr>\n",
       "  </tbody>\n",
       "</table>\n",
       "<p>5 rows × 55 columns</p>\n",
       "</div>"
      ],
      "text/plain": [
       "Index           AAPL                                                       \\\n",
       "            20DayRet  20DayVol   Adjusted      Close  DailyRet       High   \n",
       "Date                                                                        \n",
       "2020-06-30  0.128224  0.020333  89.067307  91.199997  0.008348  91.495003   \n",
       "2020-07-01  0.119925  0.020411  88.898819  91.027496 -0.001891  91.839996   \n",
       "2020-07-02  0.129654  0.020190  88.898819  91.027496  0.000000  92.617500   \n",
       "2020-07-06  0.127753  0.020098  91.276909  93.462502  0.026750  93.945000   \n",
       "2020-07-07  0.117645  0.020201  90.993668  93.172501 -0.003103  94.654999   \n",
       "\n",
       "Index                                                    ...       IBM  \\\n",
       "                  Low       Open       Volume Z20DayRet  ...  20DayVol   \n",
       "Date                                                     ...             \n",
       "2020-06-30  90.000000  90.019997  140223200.0 -0.835767  ...  0.028028   \n",
       "2020-07-01  90.977501  91.279999  110737200.0 -0.747665  ...  0.027595   \n",
       "2020-07-02  90.910004  91.962502  114041600.0 -0.854867  ...  0.027751   \n",
       "2020-07-06  92.467499  92.500000  118655600.0 -0.833322  ...  0.027072   \n",
       "2020-07-07  93.057503  93.852501  112424400.0 -0.720968  ...  0.026265   \n",
       "\n",
       "Index                                                                \\\n",
       "             Adjusted       Close  DailyRet        High         Low   \n",
       "Date                                                                  \n",
       "2020-06-30  95.258324  115.458893  0.008518  115.869980  113.766731   \n",
       "2020-07-01  93.499382  113.326958 -0.018465  115.898659  113.164436   \n",
       "2020-07-02  94.414352  114.435944  0.009786  116.080307  114.015297   \n",
       "2020-07-06  94.800842  114.904396  0.004094  116.491394  114.206497   \n",
       "2020-07-07  92.742188  112.409180 -0.021716  114.254303  112.170174   \n",
       "\n",
       "Index                                                  \n",
       "                  Open     Volume Z20DayRet Z20DayVol  \n",
       "Date                                                   \n",
       "2020-06-30  113.948372  4099797.0  0.391729 -0.628146  \n",
       "2020-07-01  114.980881  4869967.0  0.775895 -0.591284  \n",
       "2020-07-02  114.426384  3919362.0  0.671479 -0.597308  \n",
       "2020-07-06  115.917786  4231488.0  0.846822 -0.542056  \n",
       "2020-07-07  113.766731  4474893.0  1.268045 -0.477503  \n",
       "\n",
       "[5 rows x 55 columns]"
      ]
     },
     "execution_count": 322,
     "metadata": {},
     "output_type": "execute_result"
    }
   ],
   "source": [
    "full_feature_dataset.head()"
   ]
  },
  {
   "cell_type": "code",
   "execution_count": 323,
   "metadata": {
    "colab": {
     "base_uri": "https://localhost:8080/"
    },
    "id": "V-AV6ZPBu5tg",
    "outputId": "c55993c8-1f0b-4135-f7fd-2814e604a6c1"
   },
   "outputs": [
    {
     "data": {
      "text/plain": [
       "(986, 55)"
      ]
     },
     "execution_count": 323,
     "metadata": {},
     "output_type": "execute_result"
    }
   ],
   "source": [
    "full_feature_dataset = full_feature_dataset.to_numpy()\n",
    "full_feature_dataset.shape"
   ]
  },
  {
   "cell_type": "markdown",
   "metadata": {
    "id": "LFmXplYiwLEP"
   },
   "source": [
    "### Performing PCA to Extract most useful features for the dataset"
   ]
  },
  {
   "cell_type": "code",
   "execution_count": 324,
   "metadata": {
    "id": "jvDRML2quZRg"
   },
   "outputs": [],
   "source": [
    "from sklearn.decomposition import PCA\n",
    "from sklearn.preprocessing import MinMaxScaler"
   ]
  },
  {
   "cell_type": "markdown",
   "metadata": {
    "id": "Glz8O4KUdJcL"
   },
   "source": [
    "# LSTM Stock Prediction"
   ]
  },
  {
   "cell_type": "markdown",
   "metadata": {
    "id": "Qo_hebaNzhGG"
   },
   "source": [
    "## Data Manipulation\n",
    "\n",
    "In this section several steps are performed...\n",
    "- Set our lookback/training window and horizon/testing window\n",
    "- Create a training, validation, and test set\n",
    "- Scale the data using MinMaxScaler\n",
    "- Process data into arrays with ranges of dates from (lookback, t) and (t+1, horizon). T jumps by one day each time."
   ]
  },
  {
   "cell_type": "code",
   "execution_count": 325,
   "metadata": {
    "id": "4A6vhTHHD80i"
   },
   "outputs": [],
   "source": [
    "closing_prices = df_close.iloc[:full_feature_dataset.shape[0],:]"
   ]
  },
  {
   "cell_type": "markdown",
   "metadata": {
    "id": "-E2xLQmskPgA"
   },
   "source": [
    "Creating train and test sets"
   ]
  },
  {
   "cell_type": "code",
   "execution_count": 326,
   "metadata": {
    "id": "8S7UjrVFW8bK"
   },
   "outputs": [],
   "source": [
    "from sklearn.model_selection import train_test_split\n",
    "#Division of data\n",
    "# df_close = df_close.to_numpy()\n",
    "array_train, array_test = train_test_split(closing_prices, shuffle = False, test_size = .2)\n",
    "PCA_train, PCA_test = train_test_split(full_feature_dataset, shuffle = False, test_size = .2)"
   ]
  },
  {
   "cell_type": "code",
   "execution_count": 327,
   "metadata": {
    "colab": {
     "base_uri": "https://localhost:8080/"
    },
    "id": "D1N1paWFPRsC",
    "outputId": "5d149a88-2d6c-42c5-9ccc-c12872536b9b"
   },
   "outputs": [
    {
     "name": "stdout",
     "output_type": "stream",
     "text": [
      "(788, 5)\n",
      "(788, 55)\n"
     ]
    }
   ],
   "source": [
    "print(array_train.shape)\n",
    "print(PCA_train.shape)"
   ]
  },
  {
   "cell_type": "code",
   "execution_count": 328,
   "metadata": {
    "id": "WozBjGVpJ6eX"
   },
   "outputs": [],
   "source": [
    "from sklearn.decomposition import PCA\n",
    "pc3 = PCA()\n",
    "temp = pc3.fit_transform(PCA_train)"
   ]
  },
  {
   "cell_type": "markdown",
   "metadata": {
    "id": "SFsPbv5tKquB"
   },
   "source": [
    "Nearly all data is explained by 382 components"
   ]
  },
  {
   "cell_type": "code",
   "execution_count": 329,
   "metadata": {
    "colab": {
     "base_uri": "https://localhost:8080/",
     "height": 279
    },
    "id": "Ziuhe3mbKKp6",
    "outputId": "53ad6787-0e5c-4e3d-8b45-18a7cbe291f4"
   },
   "outputs": [
    {
     "data": {
      "image/png": "[encoded data removed]",
      "text/plain": [
       "<Figure size 640x480 with 1 Axes>"
      ]
     },
     "metadata": {},
     "output_type": "display_data"
    }
   ],
   "source": [
    "plt.plot(np.cumsum(pc3.explained_variance_ratio_))\n",
    "plt.xlabel('Num Components')\n",
    "plt.ylabel('Cumulative Explained Variance');"
   ]
  },
  {
   "cell_type": "markdown",
   "metadata": {
    "id": "8chyoEa8kTTN"
   },
   "source": [
    "Scaling the Data"
   ]
  },
  {
   "cell_type": "code",
   "execution_count": 330,
   "metadata": {
    "id": "-icU5T0_emvc"
   },
   "outputs": [],
   "source": [
    "from sklearn.decomposition import PCA\n",
    "from sklearn.preprocessing import StandardScaler\n",
    "# Assuming your training data is loaded into PCA_train and testing data into PCA_test\n",
    "pcaTrain = PCA(n_components=55)  # Set n_components to a value <= min(n_samples, n_features)\n",
    "pcTrain_scl = StandardScaler()\n",
    "PCA_train = pcTrain_scl.fit_transform(PCA_train)\n",
    "PCA_train = pcaTrain.fit_transform(PCA_train)\n",
    "\n",
    "pcaTest = PCA(n_components=55)  # Set n_components to the same value as for training\n",
    "pcTest_scl = StandardScaler()\n",
    "PCA_test = pcTest_scl.fit_transform(PCA_test)\n",
    "PCA_test = pcaTest.fit_transform(PCA_test)\n"
   ]
  },
  {
   "cell_type": "code",
   "execution_count": 331,
   "metadata": {
    "colab": {
     "base_uri": "https://localhost:8080/"
    },
    "id": "BPHO3_pyGy9K",
    "outputId": "1c0dfa95-9486-4a39-9afb-afaef77219de"
   },
   "outputs": [
    {
     "name": "stdout",
     "output_type": "stream",
     "text": [
      "(788, 5)\n",
      "(788, 55)\n"
     ]
    }
   ],
   "source": [
    "print(array_train.shape)\n",
    "print(PCA_train.shape)"
   ]
  },
  {
   "cell_type": "markdown",
   "metadata": {
    "id": "i1iTlZlxkWZE"
   },
   "source": [
    "Creating function to iteravely process data"
   ]
  },
  {
   "cell_type": "code",
   "execution_count": 332,
   "metadata": {
    "id": "fZ8VfGa5fYP9"
   },
   "outputs": [],
   "source": [
    "#Get the data and splits in input X and output Y, by spliting in lookback number of past days as input X \n",
    "#and horizon number of coming days as Y.\n",
    "def processData(data, lookback, horizon,num_companies,jump=1):\n",
    "    X,Y = [],[]\n",
    "    for i in range(0,len(data) -lookback - horizon +1, jump):\n",
    "        X.append(data[i:(i+lookback)])\n",
    "        Y.append(data[(i+lookback):(i+lookback+horizon)])\n",
    "    return np.array(X),np.array(Y)"
   ]
  },
  {
   "cell_type": "markdown",
   "metadata": {
    "id": "SZiM9hJika9w"
   },
   "source": [
    "Setting lookback and horizon window sizes"
   ]
  },
  {
   "cell_type": "code",
   "execution_count": 333,
   "metadata": {
    "id": "8Vivvsu4fqir"
   },
   "outputs": [],
   "source": [
    "num_companies = df_close.shape[1]\n",
    "lookback = 252 #How many days of the past can the model see\n",
    "horizon = 22 #How many days into the future are we trying to predict"
   ]
  },
  {
   "cell_type": "markdown",
   "metadata": {
    "id": "Zb-UTFsMke_E"
   },
   "source": [
    "Further splitting the train data into training and validation sets"
   ]
  },
  {
   "cell_type": "code",
   "execution_count": 334,
   "metadata": {
    "id": "aREefEBhgC65"
   },
   "outputs": [],
   "source": [
    "# Formation of lookback dataframes and forward dataframes for training, and testing dataset\n",
    "# to calculate accuracy\n",
    "\n",
    "#Testing Data\n",
    "X_test, void = processData(PCA_test,lookback,horizon,num_companies,horizon)\n",
    "void, y_test = processData(array_test,lookback,horizon,num_companies,horizon) \n",
    "y_test = np.array([list(a.ravel()) for a in y_test])\n",
    "\n",
    "#Training/Validation Data\n",
    "X_PCA, void = processData(PCA_train,lookback,horizon,num_companies)\n",
    "void, y = processData(array_train,lookback,horizon,num_companies)\n",
    "y = np.array([list(x.ravel()) for x in y])\n",
    "\n",
    "X_train, X_validate, y_train, y_validate = train_test_split(X_PCA, y, test_size=0.20, random_state=1)"
   ]
  },
  {
   "cell_type": "code",
   "execution_count": 335,
   "metadata": {
    "colab": {
     "base_uri": "https://localhost:8080/"
    },
    "id": "7oOTwlWNjdFD",
    "outputId": "fc219f67-61d3-441b-b272-d8ea32fceff3"
   },
   "outputs": [
    {
     "data": {
      "text/plain": [
       "382.0"
      ]
     },
     "execution_count": 335,
     "metadata": {},
     "output_type": "execute_result"
    }
   ],
   "source": [
    "8404/22\n",
    "#Length y_train/test/validate / forward window == # of features"
   ]
  },
  {
   "cell_type": "code",
   "execution_count": 336,
   "metadata": {
    "colab": {
     "base_uri": "https://localhost:8080/"
    },
    "id": "kFaWQ9tOgsEj",
    "outputId": "a17884c8-2384-47e3-acc4-c3fc282621ff"
   },
   "outputs": [
    {
     "name": "stdout",
     "output_type": "stream",
     "text": [
      "(412, 252, 55)\n",
      "(103, 252, 55)\n",
      "(0,)\n",
      "(412, 110)\n",
      "(103, 110)\n",
      "(0,)\n"
     ]
    }
   ],
   "source": [
    "print(X_train.shape)\n",
    "print(X_validate.shape)\n",
    "print(X_test.shape)\n",
    "print(y_train.shape)\n",
    "print(y_validate.shape)\n",
    "print(y_test.shape)\n",
    "#(Sample,Timestep,Features)"
   ]
  },
  {
   "cell_type": "markdown",
   "metadata": {
    "id": "GmtMFE_vg7-Y"
   },
   "source": [
    "## Model Architecture + Training\n",
    "\n",
    "Here, we can input the number or neurons on each layer, change the level of dropout, and set the specifications for early dropout. The model is then trained and the learning curve is plotted below."
   ]
  },
  {
   "cell_type": "code",
   "execution_count": 337,
   "metadata": {},
   "outputs": [
    {
     "name": "stderr",
     "output_type": "stream",
     "text": [
      "c:\\Users\\mayan\\AppData\\Local\\Programs\\Python\\Python310\\lib\\site-packages\\keras\\src\\layers\\rnn\\rnn.py:205: UserWarning: Do not pass an `input_shape`/`input_dim` argument to a layer. When using Sequential models, prefer using an `Input(shape)` object as the first layer in the model instead.\n",
      "  super().__init__(**kwargs)\n"
     ]
    }
   ],
   "source": [
    "from keras.models import Sequential, load_model\n",
    "import tensorflow as tf\n",
    "from keras.layers import LSTM,Dense,Activation,Attention,Dropout\n",
    "from tensorflow.keras.callbacks import EarlyStopping\n",
    "from tensorflow.keras.regularizers import Regularizer\n",
    "from keras import optimizers\n",
    "\n",
    "#Model Architecture - Two LSTM layers with x neurons & y epochs\n",
    "num_neurons_L1 = 800\n",
    "num_neurons_L2 = 600\n",
    "num_neurons_dense1 = 200\n",
    "EPOCHS = 100\n",
    "\n",
    "#Model\n",
    "model = Sequential()\n",
    "\n",
    "model.add(LSTM(num_neurons_L1,input_shape=(lookback,num_companies), return_sequences=True))\n",
    "model.add(LSTM(num_neurons_L2,input_shape=(num_neurons_L1,1)))\n",
    "model.add(Dense(horizon * num_companies, activation = 'relu'))\n",
    "model.add(Dense(horizon * num_companies, activation = 'sigmoid'))\n",
    "\n",
    "model.compile(loss='mean_squared_error', optimizer='adam', metrics = ['accuracy'])"
   ]
  },
  {
   "cell_type": "code",
   "execution_count": 338,
   "metadata": {
    "colab": {
     "base_uri": "https://localhost:8080/"
    },
    "id": "XU47phEEh0nb",
    "outputId": "5c2f896b-943c-4a16-c7f6-f89079fdd72a"
   },
   "outputs": [
    {
     "name": "stdout",
     "output_type": "stream",
     "text": [
      "Original PCA_train shape: (788, 55)\n",
      "Original PCA_test shape: (198, 55)\n",
      "Original y_train shape: (412, 110)\n",
      "Original y_validate shape: (103, 110)\n",
      "Matching PCA_train shape: (412, 55)\n",
      "Matching y_train shape: (412, 110)\n",
      "Matching PCA_test shape: (103, 55)\n",
      "Matching y_validate shape: (103, 110)\n",
      "PCA_train shape: (412, 55)\n",
      "PCA_test shape: (103, 55)\n",
      "y_train shape: (412, 110)\n",
      "y_validate shape: (103, 110)\n",
      "X_train shape: (412, 1, 55)\n",
      "X_validate shape: (103, 1, 55)\n"
     ]
    },
    {
     "name": "stderr",
     "output_type": "stream",
     "text": [
      "c:\\Users\\mayan\\AppData\\Local\\Programs\\Python\\Python310\\lib\\site-packages\\keras\\src\\layers\\rnn\\rnn.py:205: UserWarning: Do not pass an `input_shape`/`input_dim` argument to a layer. When using Sequential models, prefer using an `Input(shape)` object as the first layer in the model instead.\n",
      "  super().__init__(**kwargs)\n"
     ]
    },
    {
     "name": "stdout",
     "output_type": "stream",
     "text": [
      "Final y_train shape: (412, 110)\n",
      "Final y_validate shape: (103, 110)\n",
      "Epoch 1/100\n",
      "2/2 - 7s - 3s/step - loss: 16789.5430 - val_loss: 16711.9629\n",
      "Epoch 2/100\n",
      "2/2 - 0s - 54ms/step - loss: 16781.4219 - val_loss: 16705.8145\n",
      "Epoch 3/100\n",
      "2/2 - 0s - 51ms/step - loss: 16774.3340 - val_loss: 16699.6465\n",
      "Epoch 4/100\n",
      "2/2 - 0s - 56ms/step - loss: 16767.2695 - val_loss: 16693.4180\n",
      "Epoch 5/100\n",
      "2/2 - 0s - 49ms/step - loss: 16760.1328 - val_loss: 16687.1074\n",
      "Epoch 6/100\n",
      "2/2 - 0s - 53ms/step - loss: 16752.8906 - val_loss: 16680.6875\n",
      "Epoch 7/100\n",
      "2/2 - 0s - 50ms/step - loss: 16745.5156 - val_loss: 16674.1445\n",
      "Epoch 8/100\n",
      "2/2 - 0s - 47ms/step - loss: 16737.9883 - val_loss: 16667.4590\n",
      "Epoch 9/100\n",
      "2/2 - 0s - 51ms/step - loss: 16730.2891 - val_loss: 16660.6172\n",
      "Epoch 10/100\n",
      "2/2 - 0s - 49ms/step - loss: 16722.3984 - val_loss: 16653.6016\n",
      "Epoch 11/100\n",
      "2/2 - 0s - 50ms/step - loss: 16714.2988 - val_loss: 16646.3965\n",
      "Epoch 12/100\n",
      "2/2 - 0s - 49ms/step - loss: 16705.9727 - val_loss: 16638.9883\n",
      "Epoch 13/100\n",
      "2/2 - 0s - 48ms/step - loss: 16697.4062 - val_loss: 16631.3711\n",
      "Epoch 14/100\n",
      "2/2 - 0s - 45ms/step - loss: 16688.5820 - val_loss: 16623.5234\n",
      "Epoch 15/100\n",
      "2/2 - 0s - 45ms/step - loss: 16679.4883 - val_loss: 16615.4434\n",
      "Epoch 16/100\n",
      "2/2 - 0s - 45ms/step - loss: 16670.1133 - val_loss: 16607.1133\n",
      "Epoch 17/100\n",
      "2/2 - 0s - 48ms/step - loss: 16660.4395 - val_loss: 16598.5293\n",
      "Epoch 18/100\n",
      "2/2 - 0s - 44ms/step - loss: 16650.4590 - val_loss: 16589.6816\n",
      "Epoch 19/100\n",
      "2/2 - 0s - 46ms/step - loss: 16640.1602 - val_loss: 16580.5586\n",
      "Epoch 20/100\n",
      "2/2 - 0s - 47ms/step - loss: 16629.5312 - val_loss: 16571.1582\n",
      "Epoch 21/100\n",
      "2/2 - 0s - 48ms/step - loss: 16618.5664 - val_loss: 16561.4727\n",
      "Epoch 22/100\n",
      "2/2 - 0s - 45ms/step - loss: 16607.2539 - val_loss: 16551.4961\n",
      "Epoch 23/100\n",
      "2/2 - 0s - 47ms/step - loss: 16595.5898 - val_loss: 16541.2207\n",
      "Epoch 24/100\n",
      "2/2 - 0s - 69ms/step - loss: 16583.5625 - val_loss: 16530.6445\n",
      "Epoch 25/100\n",
      "2/2 - 0s - 46ms/step - loss: 16571.1660 - val_loss: 16519.7637\n",
      "Epoch 26/100\n",
      "2/2 - 0s - 48ms/step - loss: 16558.3965 - val_loss: 16508.5742\n",
      "Epoch 27/100\n",
      "2/2 - 0s - 48ms/step - loss: 16545.2480 - val_loss: 16497.0742\n",
      "Epoch 28/100\n",
      "2/2 - 0s - 54ms/step - loss: 16531.7148 - val_loss: 16485.2598\n",
      "Epoch 29/100\n",
      "2/2 - 0s - 46ms/step - loss: 16517.7930 - val_loss: 16473.1270\n",
      "Epoch 30/100\n",
      "2/2 - 0s - 47ms/step - loss: 16503.4766 - val_loss: 16460.6777\n",
      "Epoch 31/100\n",
      "2/2 - 0s - 45ms/step - loss: 16488.7695 - val_loss: 16447.9082\n",
      "Epoch 32/100\n",
      "2/2 - 0s - 45ms/step - loss: 16473.6641 - val_loss: 16434.8223\n",
      "Epoch 33/100\n",
      "2/2 - 0s - 45ms/step - loss: 16458.1582 - val_loss: 16421.4160\n",
      "Epoch 34/100\n",
      "2/2 - 0s - 44ms/step - loss: 16442.2520 - val_loss: 16407.6914\n",
      "Epoch 35/100\n",
      "2/2 - 0s - 46ms/step - loss: 16425.9453 - val_loss: 16393.6465\n",
      "Epoch 36/100\n",
      "2/2 - 0s - 101ms/step - loss: 16409.2344 - val_loss: 16379.2861\n",
      "Epoch 37/100\n",
      "2/2 - 0s - 69ms/step - loss: 16392.1211 - val_loss: 16364.6104\n",
      "Epoch 38/100\n",
      "2/2 - 0s - 48ms/step - loss: 16374.6094 - val_loss: 16349.6201\n",
      "Epoch 39/100\n",
      "2/2 - 0s - 55ms/step - loss: 16356.6953 - val_loss: 16334.3184\n",
      "Epoch 40/100\n",
      "2/2 - 0s - 54ms/step - loss: 16338.3828 - val_loss: 16318.7051\n",
      "Epoch 41/100\n",
      "2/2 - 0s - 46ms/step - loss: 16319.6699 - val_loss: 16302.7881\n",
      "Epoch 42/100\n",
      "2/2 - 0s - 48ms/step - loss: 16300.5645 - val_loss: 16286.5645\n",
      "Epoch 43/100\n",
      "2/2 - 0s - 45ms/step - loss: 16281.0684 - val_loss: 16270.0410\n",
      "Epoch 44/100\n",
      "2/2 - 0s - 58ms/step - loss: 16261.1797 - val_loss: 16253.2236\n",
      "Epoch 45/100\n",
      "2/2 - 0s - 61ms/step - loss: 16240.9062 - val_loss: 16236.1104\n",
      "Epoch 46/100\n",
      "2/2 - 0s - 54ms/step - loss: 16220.2500 - val_loss: 16218.7100\n",
      "Epoch 47/100\n",
      "2/2 - 0s - 57ms/step - loss: 16199.2148 - val_loss: 16201.0254\n",
      "Epoch 48/100\n",
      "2/2 - 0s - 69ms/step - loss: 16177.8076 - val_loss: 16183.0605\n",
      "Epoch 49/100\n",
      "2/2 - 0s - 70ms/step - loss: 16156.0283 - val_loss: 16164.8184\n",
      "Epoch 50/100\n",
      "2/2 - 0s - 59ms/step - loss: 16133.8857 - val_loss: 16146.3066\n",
      "Epoch 51/100\n",
      "2/2 - 0s - 51ms/step - loss: 16111.3848 - val_loss: 16127.5303\n",
      "Epoch 52/100\n",
      "2/2 - 0s - 63ms/step - loss: 16088.5273 - val_loss: 16108.4932\n",
      "Epoch 53/100\n",
      "2/2 - 0s - 54ms/step - loss: 16065.3242 - val_loss: 16089.1992\n",
      "Epoch 54/100\n",
      "2/2 - 0s - 49ms/step - loss: 16041.7754 - val_loss: 16069.6553\n",
      "Epoch 55/100\n",
      "2/2 - 0s - 55ms/step - loss: 16017.8906 - val_loss: 16049.8652\n",
      "Epoch 56/100\n",
      "2/2 - 0s - 50ms/step - loss: 15993.6768 - val_loss: 16029.8369\n",
      "Epoch 57/100\n",
      "2/2 - 0s - 49ms/step - loss: 15969.1387 - val_loss: 16009.5762\n",
      "Epoch 58/100\n",
      "2/2 - 0s - 51ms/step - loss: 15944.2812 - val_loss: 15989.0850\n",
      "Epoch 59/100\n",
      "2/2 - 0s - 52ms/step - loss: 15919.1133 - val_loss: 15968.3730\n",
      "Epoch 60/100\n",
      "2/2 - 0s - 46ms/step - loss: 15893.6406 - val_loss: 15947.4395\n",
      "Epoch 61/100\n",
      "2/2 - 0s - 56ms/step - loss: 15867.8711 - val_loss: 15926.2988\n",
      "Epoch 62/100\n",
      "2/2 - 0s - 77ms/step - loss: 15841.8086 - val_loss: 15904.9492\n",
      "Epoch 63/100\n",
      "2/2 - 0s - 50ms/step - loss: 15815.4609 - val_loss: 15883.4004\n",
      "Epoch 64/100\n",
      "2/2 - 0s - 75ms/step - loss: 15788.8379 - val_loss: 15861.6553\n",
      "Epoch 65/100\n",
      "2/2 - 0s - 66ms/step - loss: 15761.9434 - val_loss: 15839.7236\n",
      "Epoch 66/100\n",
      "2/2 - 0s - 57ms/step - loss: 15734.7852 - val_loss: 15817.6064\n",
      "Epoch 67/100\n",
      "2/2 - 0s - 60ms/step - loss: 15707.3711 - val_loss: 15795.3135\n",
      "Epoch 68/100\n",
      "2/2 - 0s - 49ms/step - loss: 15679.7061 - val_loss: 15772.8447\n",
      "Epoch 69/100\n",
      "2/2 - 0s - 47ms/step - loss: 15651.7998 - val_loss: 15750.2119\n",
      "Epoch 70/100\n",
      "2/2 - 0s - 50ms/step - loss: 15623.6582 - val_loss: 15727.4150\n",
      "Epoch 71/100\n",
      "2/2 - 0s - 52ms/step - loss: 15595.2871 - val_loss: 15704.4648\n",
      "Epoch 72/100\n",
      "2/2 - 0s - 52ms/step - loss: 15566.6953 - val_loss: 15681.3633\n",
      "Epoch 73/100\n",
      "2/2 - 0s - 61ms/step - loss: 15537.8887 - val_loss: 15658.1162\n",
      "Epoch 74/100\n",
      "2/2 - 0s - 50ms/step - loss: 15508.8740 - val_loss: 15634.7285\n",
      "Epoch 75/100\n",
      "2/2 - 0s - 52ms/step - loss: 15479.6562 - val_loss: 15611.2051\n",
      "Epoch 76/100\n",
      "2/2 - 0s - 60ms/step - loss: 15450.2480 - val_loss: 15587.5537\n",
      "Epoch 77/100\n",
      "2/2 - 0s - 56ms/step - loss: 15420.6484 - val_loss: 15563.7754\n",
      "Epoch 78/100\n",
      "2/2 - 0s - 87ms/step - loss: 15390.8672 - val_loss: 15539.8760\n",
      "Epoch 79/100\n",
      "2/2 - 0s - 134ms/step - loss: 15360.9082 - val_loss: 15515.8613\n",
      "Epoch 80/100\n",
      "2/2 - 0s - 49ms/step - loss: 15330.7812 - val_loss: 15491.7383\n",
      "Epoch 81/100\n",
      "2/2 - 0s - 47ms/step - loss: 15300.4873 - val_loss: 15467.5049\n",
      "Epoch 82/100\n",
      "2/2 - 0s - 50ms/step - loss: 15270.0361 - val_loss: 15443.1719\n",
      "Epoch 83/100\n",
      "2/2 - 0s - 44ms/step - loss: 15239.4316 - val_loss: 15418.7402\n",
      "Epoch 84/100\n",
      "2/2 - 0s - 43ms/step - loss: 15208.6807 - val_loss: 15394.2168\n",
      "Epoch 85/100\n",
      "2/2 - 0s - 45ms/step - loss: 15177.7871 - val_loss: 15369.6045\n",
      "Epoch 86/100\n",
      "2/2 - 0s - 44ms/step - loss: 15146.7588 - val_loss: 15344.9043\n",
      "Epoch 87/100\n",
      "2/2 - 0s - 56ms/step - loss: 15115.5957 - val_loss: 15320.1250\n",
      "Epoch 88/100\n",
      "2/2 - 0s - 51ms/step - loss: 15084.3096 - val_loss: 15295.2666\n",
      "Epoch 89/100\n",
      "2/2 - 0s - 50ms/step - loss: 15052.9004 - val_loss: 15270.3359\n",
      "Epoch 90/100\n",
      "2/2 - 0s - 57ms/step - loss: 15021.3750 - val_loss: 15245.3359\n",
      "Epoch 91/100\n",
      "2/2 - 0s - 49ms/step - loss: 14989.7383 - val_loss: 15220.2695\n",
      "Epoch 92/100\n",
      "2/2 - 0s - 48ms/step - loss: 14957.9941 - val_loss: 15195.1406\n",
      "Epoch 93/100\n",
      "2/2 - 0s - 75ms/step - loss: 14926.1484 - val_loss: 15169.9512\n",
      "Epoch 94/100\n",
      "2/2 - 0s - 55ms/step - loss: 14894.2051 - val_loss: 15144.7080\n",
      "Epoch 95/100\n",
      "2/2 - 0s - 141ms/step - loss: 14862.1660 - val_loss: 15119.4092\n",
      "Epoch 96/100\n",
      "2/2 - 0s - 49ms/step - loss: 14830.0391 - val_loss: 15094.0615\n",
      "Epoch 97/100\n",
      "2/2 - 0s - 52ms/step - loss: 14797.8281 - val_loss: 15068.6689\n",
      "Epoch 98/100\n",
      "2/2 - 0s - 46ms/step - loss: 14765.5352 - val_loss: 15043.2314\n",
      "Epoch 99/100\n",
      "2/2 - 0s - 80ms/step - loss: 14733.1631 - val_loss: 15017.7520\n",
      "Epoch 100/100\n",
      "2/2 - 0s - 62ms/step - loss: 14700.7207 - val_loss: 14992.2363\n"
     ]
    }
   ],
   "source": [
    "from sklearn.decomposition import PCA\n",
    "from sklearn.preprocessing import StandardScaler\n",
    "from tensorflow.keras.models import Sequential\n",
    "from tensorflow.keras.layers import LSTM, Dense\n",
    "\n",
    "# Print original shapes before PCA\n",
    "print(f'Original PCA_train shape: {PCA_train.shape}')\n",
    "print(f'Original PCA_test shape: {PCA_test.shape}')\n",
    "print(f'Original y_train shape: {y_train.shape}')\n",
    "print(f'Original y_validate shape: {y_validate.shape}')\n",
    "\n",
    "# Ensure y_train and y_validate have the same number of samples as PCA_train and PCA_test respectively\n",
    "if PCA_train.shape[0] != y_train.shape[0]:\n",
    "    min_samples = min(PCA_train.shape[0], y_train.shape[0])\n",
    "    PCA_train = PCA_train[:min_samples]\n",
    "    y_train = y_train[:min_samples]\n",
    "\n",
    "if PCA_test.shape[0] != y_validate.shape[0]:\n",
    "    min_samples = min(PCA_test.shape[0], y_validate.shape[0])\n",
    "    PCA_test = PCA_test[:min_samples]\n",
    "    y_validate = y_validate[:min_samples]\n",
    "\n",
    "# Print shapes after ensuring matching samples\n",
    "print(f'Matching PCA_train shape: {PCA_train.shape}')\n",
    "print(f'Matching y_train shape: {y_train.shape}')\n",
    "print(f'Matching PCA_test shape: {PCA_test.shape}')\n",
    "print(f'Matching y_validate shape: {y_validate.shape}')\n",
    "\n",
    "# Assuming your training data is loaded into PCA_train and testing data into PCA_test\n",
    "pcaTrain = PCA(n_components=55)  # Set n_components to a value <= min(n_samples, n_features)\n",
    "pcTrain_scl = StandardScaler()\n",
    "PCA_train = pcTrain_scl.fit_transform(PCA_train)\n",
    "PCA_train = pcaTrain.fit_transform(PCA_train)\n",
    "\n",
    "pcaTest = PCA(n_components=55)  # Set n_components to the same value as for training\n",
    "pcTest_scl = StandardScaler()\n",
    "PCA_test = pcTest_scl.fit_transform(PCA_test)\n",
    "PCA_test = pcaTest.fit_transform(PCA_test)\n",
    "\n",
    "# Print shapes before reshaping\n",
    "print(f'PCA_train shape: {PCA_train.shape}')\n",
    "print(f'PCA_test shape: {PCA_test.shape}')\n",
    "print(f'y_train shape: {y_train.shape}')\n",
    "print(f'y_validate shape: {y_validate.shape}')\n",
    "\n",
    "# Reshape data to have 3 dimensions (samples, timesteps, features)\n",
    "timesteps = 1  # Set timesteps as per your data\n",
    "X_train = PCA_train.reshape((PCA_train.shape[0], timesteps, PCA_train.shape[1]))\n",
    "X_validate = PCA_test.reshape((PCA_test.shape[0], timesteps, PCA_test.shape[1]))\n",
    "\n",
    "# Print shapes after reshaping\n",
    "print(f'X_train shape: {X_train.shape}')\n",
    "print(f'X_validate shape: {X_validate.shape}')\n",
    "\n",
    "# Define your LSTM model\n",
    "model = Sequential()\n",
    "model.add(LSTM(100, input_shape=(timesteps, PCA_train.shape[1])))\n",
    "model.add(Dense(1))\n",
    "\n",
    "model.compile(optimizer='adam', loss='mean_squared_error')\n",
    "\n",
    "# Ensure y_train and y_validate have the correct shape (1D or 2D)\n",
    "print(f'Final y_train shape: {y_train.shape}')\n",
    "print(f'Final y_validate shape: {y_validate.shape}')\n",
    "\n",
    "# Train the model\n",
    "history = model.fit(X_train, y_train, epochs=EPOCHS,\n",
    "                    validation_data=(X_validate, y_validate),\n",
    "                    shuffle=False, batch_size=256, verbose=2)\n"
   ]
  },
  {
   "cell_type": "markdown",
   "metadata": {
    "id": "3PJ1N9Bunuge"
   },
   "source": [
    "Plotting the learning curve - Loss"
   ]
  },
  {
   "cell_type": "code",
   "execution_count": 339,
   "metadata": {
    "colab": {
     "base_uri": "https://localhost:8080/",
     "height": 592
    },
    "id": "ZR2v6RStjjLj",
    "outputId": "f39818f3-6e06-4ac3-b626-a28e684386e8"
   },
   "outputs": [
    {
     "data": {
      "image/png": "[encoded data removed]",
      "text/plain": [
       "<Figure size 1500x1000 with 1 Axes>"
      ]
     },
     "metadata": {},
     "output_type": "display_data"
    },
    {
     "data": {
      "text/plain": [
       "<Figure size 640x480 with 0 Axes>"
      ]
     },
     "metadata": {},
     "output_type": "display_data"
    }
   ],
   "source": [
    "plt.figure(figsize = (15,10))\n",
    "\n",
    "plt.plot(history.history['loss'], label='loss')\n",
    "plt.plot(history.history['val_loss'], label='val_loss')\n",
    "plt.legend(loc='best')\n",
    "plt.show()\n",
    "plt.savefig('Prediction6.png')"
   ]
  },
  {
   "cell_type": "code",
   "execution_count": 340,
   "metadata": {
    "colab": {
     "base_uri": "https://localhost:8080/",
     "height": 592
    },
    "id": "nvi8zQkMT8wj",
    "outputId": "9ee1906c-95eb-4f66-e559-edc84f6da159"
   },
   "outputs": [
    {
     "name": "stdout",
     "output_type": "stream",
     "text": [
      "Epoch 1/100\n"
     ]
    },
    {
     "name": "stderr",
     "output_type": "stream",
     "text": [
      "c:\\Users\\mayan\\AppData\\Local\\Programs\\Python\\Python310\\lib\\site-packages\\keras\\src\\layers\\rnn\\rnn.py:205: UserWarning: Do not pass an `input_shape`/`input_dim` argument to a layer. When using Sequential models, prefer using an `Input(shape)` object as the first layer in the model instead.\n",
      "  super().__init__(**kwargs)\n"
     ]
    },
    {
     "name": "stdout",
     "output_type": "stream",
     "text": [
      "2/2 - 6s - 3s/step - loss: 16797.2578 - mae: 126.2707 - val_loss: 16712.9512 - val_mae: 126.2050\n",
      "Epoch 2/100\n",
      "2/2 - 0s - 53ms/step - loss: 16789.4766 - mae: 126.2395 - val_loss: 16707.0781 - val_mae: 126.1816\n",
      "Epoch 3/100\n",
      "2/2 - 0s - 46ms/step - loss: 16782.7617 - mae: 126.2143 - val_loss: 16701.2031 - val_mae: 126.1582\n",
      "Epoch 4/100\n",
      "2/2 - 0s - 47ms/step - loss: 16776.0977 - mae: 126.1896 - val_loss: 16695.2949 - val_mae: 126.1346\n",
      "Epoch 5/100\n",
      "2/2 - 0s - 48ms/step - loss: 16769.3984 - mae: 126.1650 - val_loss: 16689.3184 - val_mae: 126.1108\n",
      "Epoch 6/100\n",
      "2/2 - 0s - 46ms/step - loss: 16762.6172 - mae: 126.1401 - val_loss: 16683.2461 - val_mae: 126.0865\n",
      "Epoch 7/100\n",
      "2/2 - 0s - 46ms/step - loss: 16755.7227 - mae: 126.1148 - val_loss: 16677.0586 - val_mae: 126.0618\n",
      "Epoch 8/100\n",
      "2/2 - 0s - 53ms/step - loss: 16748.6953 - mae: 126.0891 - val_loss: 16670.7324 - val_mae: 126.0366\n",
      "Epoch 9/100\n",
      "2/2 - 0s - 44ms/step - loss: 16741.5020 - mae: 126.0628 - val_loss: 16664.2500 - val_mae: 126.0107\n",
      "Epoch 10/100\n",
      "2/2 - 0s - 46ms/step - loss: 16734.1309 - mae: 126.0358 - val_loss: 16657.5879 - val_mae: 125.9841\n",
      "Epoch 11/100\n",
      "2/2 - 0s - 74ms/step - loss: 16726.5547 - mae: 126.0081 - val_loss: 16650.7363 - val_mae: 125.9568\n",
      "Epoch 12/100\n",
      "2/2 - 0s - 45ms/step - loss: 16718.7578 - mae: 125.9796 - val_loss: 16643.6777 - val_mae: 125.9286\n",
      "Epoch 13/100\n",
      "2/2 - 0s - 52ms/step - loss: 16710.7227 - mae: 125.9502 - val_loss: 16636.3945 - val_mae: 125.8995\n",
      "Epoch 14/100\n",
      "2/2 - 0s - 50ms/step - loss: 16702.4336 - mae: 125.9199 - val_loss: 16628.8770 - val_mae: 125.8695\n",
      "Epoch 15/100\n",
      "2/2 - 0s - 45ms/step - loss: 16693.8730 - mae: 125.8885 - val_loss: 16621.1133 - val_mae: 125.8384\n",
      "Epoch 16/100\n",
      "2/2 - 0s - 45ms/step - loss: 16685.0312 - mae: 125.8561 - val_loss: 16613.0938 - val_mae: 125.8064\n",
      "Epoch 17/100\n",
      "2/2 - 0s - 82ms/step - loss: 16675.8906 - mae: 125.8227 - val_loss: 16604.8086 - val_mae: 125.7733\n",
      "Epoch 18/100\n",
      "2/2 - 0s - 44ms/step - loss: 16666.4414 - mae: 125.7881 - val_loss: 16596.2461 - val_mae: 125.7390\n",
      "Epoch 19/100\n",
      "2/2 - 0s - 46ms/step - loss: 16656.6719 - mae: 125.7523 - val_loss: 16587.4004 - val_mae: 125.7037\n",
      "Epoch 20/100\n",
      "2/2 - 0s - 50ms/step - loss: 16646.5742 - mae: 125.7153 - val_loss: 16578.2637 - val_mae: 125.6671\n",
      "Epoch 21/100\n",
      "2/2 - 0s - 67ms/step - loss: 16636.1367 - mae: 125.6770 - val_loss: 16568.8281 - val_mae: 125.6293\n",
      "Epoch 22/100\n",
      "2/2 - 0s - 54ms/step - loss: 16625.3516 - mae: 125.6375 - val_loss: 16559.0879 - val_mae: 125.5904\n",
      "Epoch 23/100\n",
      "2/2 - 0s - 58ms/step - loss: 16614.2090 - mae: 125.5966 - val_loss: 16549.0410 - val_mae: 125.5501\n",
      "Epoch 24/100\n",
      "2/2 - 0s - 46ms/step - loss: 16602.7031 - mae: 125.5544 - val_loss: 16538.6758 - val_mae: 125.5086\n",
      "Epoch 25/100\n",
      "2/2 - 0s - 47ms/step - loss: 16590.8281 - mae: 125.5108 - val_loss: 16527.9941 - val_mae: 125.4658\n",
      "Epoch 26/100\n",
      "2/2 - 0s - 46ms/step - loss: 16578.5781 - mae: 125.4659 - val_loss: 16516.9922 - val_mae: 125.4217\n",
      "Epoch 27/100\n",
      "2/2 - 0s - 45ms/step - loss: 16565.9453 - mae: 125.4195 - val_loss: 16505.6602 - val_mae: 125.3762\n",
      "Epoch 28/100\n",
      "2/2 - 0s - 58ms/step - loss: 16552.9258 - mae: 125.3717 - val_loss: 16494.0039 - val_mae: 125.3295\n",
      "Epoch 29/100\n",
      "2/2 - 0s - 46ms/step - loss: 16539.5156 - mae: 125.3225 - val_loss: 16482.0176 - val_mae: 125.2814\n",
      "Epoch 30/100\n",
      "2/2 - 0s - 46ms/step - loss: 16525.7148 - mae: 125.2718 - val_loss: 16469.7012 - val_mae: 125.2319\n",
      "Epoch 31/100\n",
      "2/2 - 0s - 45ms/step - loss: 16511.5156 - mae: 125.2196 - val_loss: 16457.0488 - val_mae: 125.1811\n",
      "Epoch 32/100\n",
      "2/2 - 0s - 49ms/step - loss: 16496.9141 - mae: 125.1659 - val_loss: 16444.0664 - val_mae: 125.1289\n",
      "Epoch 33/100\n",
      "2/2 - 0s - 49ms/step - loss: 16481.9141 - mae: 125.1107 - val_loss: 16430.7520 - val_mae: 125.0753\n",
      "Epoch 34/100\n",
      "2/2 - 0s - 52ms/step - loss: 16466.5117 - mae: 125.0541 - val_loss: 16417.1055 - val_mae: 125.0204\n",
      "Epoch 35/100\n",
      "2/2 - 0s - 53ms/step - loss: 16450.7031 - mae: 124.9959 - val_loss: 16403.1230 - val_mae: 124.9642\n",
      "Epoch 36/100\n",
      "2/2 - 0s - 51ms/step - loss: 16434.4922 - mae: 124.9362 - val_loss: 16388.8145 - val_mae: 124.9065\n",
      "Epoch 37/100\n",
      "2/2 - 0s - 75ms/step - loss: 16417.8770 - mae: 124.8750 - val_loss: 16374.1748 - val_mae: 124.8475\n",
      "Epoch 38/100\n",
      "2/2 - 0s - 51ms/step - loss: 16400.8555 - mae: 124.8122 - val_loss: 16359.2090 - val_mae: 124.7872\n",
      "Epoch 39/100\n",
      "2/2 - 0s - 47ms/step - loss: 16383.4336 - mae: 124.7480 - val_loss: 16343.9189 - val_mae: 124.7255\n",
      "Epoch 40/100\n",
      "2/2 - 0s - 48ms/step - loss: 16365.6094 - mae: 124.6822 - val_loss: 16328.3066 - val_mae: 124.6625\n",
      "Epoch 41/100\n",
      "2/2 - 0s - 56ms/step - loss: 16347.3848 - mae: 124.6150 - val_loss: 16312.3760 - val_mae: 124.5982\n",
      "Epoch 42/100\n",
      "2/2 - 0s - 50ms/step - loss: 16328.7617 - mae: 124.5462 - val_loss: 16296.1309 - val_mae: 124.5326\n",
      "Epoch 43/100\n",
      "2/2 - 0s - 62ms/step - loss: 16309.7461 - mae: 124.4759 - val_loss: 16279.5762 - val_mae: 124.4656\n",
      "Epoch 44/100\n",
      "2/2 - 0s - 51ms/step - loss: 16290.3359 - mae: 124.4041 - val_loss: 16262.7119 - val_mae: 124.3974\n",
      "Epoch 45/100\n",
      "2/2 - 0s - 54ms/step - loss: 16270.5361 - mae: 124.3308 - val_loss: 16245.5459 - val_mae: 124.3279\n",
      "Epoch 46/100\n",
      "2/2 - 0s - 46ms/step - loss: 16250.3506 - mae: 124.2561 - val_loss: 16228.0840 - val_mae: 124.2572\n",
      "Epoch 47/100\n",
      "2/2 - 0s - 43ms/step - loss: 16229.7852 - mae: 124.1799 - val_loss: 16210.3262 - val_mae: 124.1852\n",
      "Epoch 48/100\n",
      "2/2 - 0s - 46ms/step - loss: 16208.8418 - mae: 124.1022 - val_loss: 16192.2803 - val_mae: 124.1121\n",
      "Epoch 49/100\n",
      "2/2 - 0s - 47ms/step - loss: 16187.5273 - mae: 124.0231 - val_loss: 16173.9541 - val_mae: 124.0377\n",
      "Epoch 50/100\n",
      "2/2 - 0s - 50ms/step - loss: 16165.8447 - mae: 123.9426 - val_loss: 16155.3496 - val_mae: 123.9621\n",
      "Epoch 51/100\n",
      "2/2 - 0s - 53ms/step - loss: 16143.7969 - mae: 123.8607 - val_loss: 16136.4717 - val_mae: 123.8854\n",
      "Epoch 52/100\n",
      "2/2 - 0s - 48ms/step - loss: 16121.3955 - mae: 123.7773 - val_loss: 16117.3281 - val_mae: 123.8076\n",
      "Epoch 53/100\n",
      "2/2 - 0s - 72ms/step - loss: 16098.6406 - mae: 123.6926 - val_loss: 16097.9248 - val_mae: 123.7286\n",
      "Epoch 54/100\n",
      "2/2 - 0s - 50ms/step - loss: 16075.5391 - mae: 123.6065 - val_loss: 16078.2666 - val_mae: 123.6485\n",
      "Epoch 55/100\n",
      "2/2 - 0s - 50ms/step - loss: 16052.0986 - mae: 123.5191 - val_loss: 16058.3604 - val_mae: 123.5674\n",
      "Epoch 56/100\n",
      "2/2 - 0s - 65ms/step - loss: 16028.3242 - mae: 123.4304 - val_loss: 16038.2109 - val_mae: 123.4852\n",
      "Epoch 57/100\n",
      "2/2 - 0s - 57ms/step - loss: 16004.2227 - mae: 123.3403 - val_loss: 16017.8252 - val_mae: 123.4020\n",
      "Epoch 58/100\n",
      "2/2 - 0s - 51ms/step - loss: 15979.7988 - mae: 123.2489 - val_loss: 15997.2109 - val_mae: 123.3178\n",
      "Epoch 59/100\n",
      "2/2 - 0s - 48ms/step - loss: 15955.0605 - mae: 123.1563 - val_loss: 15976.3711 - val_mae: 123.2327\n",
      "Epoch 60/100\n",
      "2/2 - 0s - 68ms/step - loss: 15930.0156 - mae: 123.0625 - val_loss: 15955.3164 - val_mae: 123.1465\n",
      "Epoch 61/100\n",
      "2/2 - 0s - 51ms/step - loss: 15904.6680 - mae: 122.9674 - val_loss: 15934.0488 - val_mae: 123.0594\n",
      "Epoch 62/100\n",
      "2/2 - 0s - 49ms/step - loss: 15879.0273 - mae: 122.8711 - val_loss: 15912.5781 - val_mae: 122.9715\n",
      "Epoch 63/100\n",
      "2/2 - 0s - 49ms/step - loss: 15853.0977 - mae: 122.7736 - val_loss: 15890.9053 - val_mae: 122.8826\n",
      "Epoch 64/100\n",
      "2/2 - 0s - 51ms/step - loss: 15826.8867 - mae: 122.6750 - val_loss: 15869.0420 - val_mae: 122.7929\n",
      "Epoch 65/100\n",
      "2/2 - 0s - 46ms/step - loss: 15800.4023 - mae: 122.5752 - val_loss: 15846.9932 - val_mae: 122.7023\n",
      "Epoch 66/100\n",
      "2/2 - 0s - 61ms/step - loss: 15773.6484 - mae: 122.4743 - val_loss: 15824.7637 - val_mae: 122.6109\n",
      "Epoch 67/100\n",
      "2/2 - 0s - 59ms/step - loss: 15746.6357 - mae: 122.3723 - val_loss: 15802.3613 - val_mae: 122.5187\n",
      "Epoch 68/100\n",
      "2/2 - 0s - 81ms/step - loss: 15719.3691 - mae: 122.2692 - val_loss: 15779.7891 - val_mae: 122.4258\n",
      "Epoch 69/100\n",
      "2/2 - 0s - 63ms/step - loss: 15691.8555 - mae: 122.1651 - val_loss: 15757.0566 - val_mae: 122.3321\n",
      "Epoch 70/100\n",
      "2/2 - 0s - 54ms/step - loss: 15664.0977 - mae: 122.0600 - val_loss: 15734.1689 - val_mae: 122.2376\n",
      "Epoch 71/100\n",
      "2/2 - 0s - 57ms/step - loss: 15636.1113 - mae: 121.9538 - val_loss: 15711.1299 - val_mae: 122.1425\n",
      "Epoch 72/100\n",
      "2/2 - 0s - 61ms/step - loss: 15607.8936 - mae: 121.8466 - val_loss: 15687.9482 - val_mae: 122.0467\n",
      "Epoch 73/100\n",
      "2/2 - 0s - 54ms/step - loss: 15579.4570 - mae: 121.7385 - val_loss: 15664.6270 - val_mae: 121.9502\n",
      "Epoch 74/100\n",
      "2/2 - 0s - 58ms/step - loss: 15550.8057 - mae: 121.6294 - val_loss: 15641.1738 - val_mae: 121.8531\n",
      "Epoch 75/100\n",
      "2/2 - 0s - 47ms/step - loss: 15521.9473 - mae: 121.5193 - val_loss: 15617.5918 - val_mae: 121.7554\n",
      "Epoch 76/100\n",
      "2/2 - 0s - 51ms/step - loss: 15492.8867 - mae: 121.4084 - val_loss: 15593.8887 - val_mae: 121.6570\n",
      "Epoch 77/100\n",
      "2/2 - 0s - 48ms/step - loss: 15463.6299 - mae: 121.2966 - val_loss: 15570.0684 - val_mae: 121.5582\n",
      "Epoch 78/100\n",
      "2/2 - 0s - 53ms/step - loss: 15434.1865 - mae: 121.1839 - val_loss: 15546.1348 - val_mae: 121.4587\n",
      "Epoch 79/100\n",
      "2/2 - 0s - 58ms/step - loss: 15404.5586 - mae: 121.0704 - val_loss: 15522.0957 - val_mae: 121.3587\n",
      "Epoch 80/100\n",
      "2/2 - 0s - 90ms/step - loss: 15374.7520 - mae: 120.9560 - val_loss: 15497.9541 - val_mae: 121.2581\n",
      "Epoch 81/100\n",
      "2/2 - 0s - 57ms/step - loss: 15344.7754 - mae: 120.8408 - val_loss: 15473.7148 - val_mae: 121.1571\n",
      "Epoch 82/100\n",
      "2/2 - 0s - 54ms/step - loss: 15314.6348 - mae: 120.7249 - val_loss: 15449.3838 - val_mae: 121.0556\n",
      "Epoch 83/100\n",
      "2/2 - 0s - 141ms/step - loss: 15284.3320 - mae: 120.6081 - val_loss: 15424.9639 - val_mae: 120.9536\n",
      "Epoch 84/100\n",
      "2/2 - 0s - 55ms/step - loss: 15253.8770 - mae: 120.4906 - val_loss: 15400.4590 - val_mae: 120.8511\n",
      "Epoch 85/100\n",
      "2/2 - 0s - 49ms/step - loss: 15223.2734 - mae: 120.3724 - val_loss: 15375.8740 - val_mae: 120.7482\n",
      "Epoch 86/100\n",
      "2/2 - 0s - 59ms/step - loss: 15192.5254 - mae: 120.2534 - val_loss: 15351.2139 - val_mae: 120.6449\n",
      "Epoch 87/100\n",
      "2/2 - 0s - 48ms/step - loss: 15161.6406 - mae: 120.1338 - val_loss: 15326.4814 - val_mae: 120.5412\n",
      "Epoch 88/100\n",
      "2/2 - 0s - 44ms/step - loss: 15130.6211 - mae: 120.0134 - val_loss: 15301.6836 - val_mae: 120.4371\n",
      "Epoch 89/100\n",
      "2/2 - 0s - 47ms/step - loss: 15099.4766 - mae: 119.8924 - val_loss: 15276.8193 - val_mae: 120.3327\n",
      "Epoch 90/100\n",
      "2/2 - 0s - 77ms/step - loss: 15068.2070 - mae: 119.7708 - val_loss: 15251.8945 - val_mae: 120.2278\n",
      "Epoch 91/100\n",
      "2/2 - 0s - 59ms/step - loss: 15036.8203 - mae: 119.6485 - val_loss: 15226.9111 - val_mae: 120.1226\n",
      "Epoch 92/100\n",
      "2/2 - 0s - 70ms/step - loss: 15005.3203 - mae: 119.5256 - val_loss: 15201.8760 - val_mae: 120.0171\n",
      "Epoch 93/100\n",
      "2/2 - 0s - 53ms/step - loss: 14973.7119 - mae: 119.4021 - val_loss: 15176.7891 - val_mae: 119.9112\n",
      "Epoch 94/100\n",
      "2/2 - 0s - 51ms/step - loss: 14941.9990 - mae: 119.2780 - val_loss: 15151.6533 - val_mae: 119.8051\n",
      "Epoch 95/100\n",
      "2/2 - 0s - 56ms/step - loss: 14910.1875 - mae: 119.1533 - val_loss: 15126.4736 - val_mae: 119.6986\n",
      "Epoch 96/100\n",
      "2/2 - 0s - 55ms/step - loss: 14878.2793 - mae: 119.0281 - val_loss: 15101.2539 - val_mae: 119.5918\n",
      "Epoch 97/100\n",
      "2/2 - 0s - 49ms/step - loss: 14846.2793 - mae: 118.9023 - val_loss: 15075.9951 - val_mae: 119.4848\n",
      "Epoch 98/100\n",
      "2/2 - 0s - 54ms/step - loss: 14814.1934 - mae: 118.7760 - val_loss: 15050.7002 - val_mae: 119.3775\n",
      "Epoch 99/100\n",
      "2/2 - 0s - 48ms/step - loss: 14782.0234 - mae: 118.6492 - val_loss: 15025.3711 - val_mae: 119.2700\n",
      "Epoch 100/100\n",
      "2/2 - 0s - 76ms/step - loss: 14749.7754 - mae: 118.5219 - val_loss: 15000.0117 - val_mae: 119.1622\n",
      "dict_keys(['loss', 'mae', 'val_loss', 'val_mae'])\n"
     ]
    },
    {
     "data": {
      "image/png": "[encoded data removed]",
      "text/plain": [
       "<Figure size 1500x1000 with 1 Axes>"
      ]
     },
     "metadata": {},
     "output_type": "display_data"
    },
    {
     "data": {
      "text/plain": [
       "<Figure size 640x480 with 0 Axes>"
      ]
     },
     "metadata": {},
     "output_type": "display_data"
    }
   ],
   "source": [
    "from sklearn.decomposition import PCA\n",
    "from sklearn.preprocessing import StandardScaler\n",
    "from tensorflow.keras.models import Sequential\n",
    "from tensorflow.keras.layers import LSTM, Dense\n",
    "import matplotlib.pyplot as plt\n",
    "\n",
    "# Ensure y_train and y_validate have the same number of samples as PCA_train and PCA_test respectively\n",
    "if PCA_train.shape[0] != y_train.shape[0]:\n",
    "    min_samples = min(PCA_train.shape[0], y_train.shape[0])\n",
    "    PCA_train = PCA_train[:min_samples]\n",
    "    y_train = y_train[:min_samples]\n",
    "\n",
    "if PCA_test.shape[0] != y_validate.shape[0]:\n",
    "    min_samples = min(PCA_test.shape[0], y_validate.shape[0])\n",
    "    PCA_test = PCA_test[:min_samples]\n",
    "    y_validate = y_validate[:min_samples]\n",
    "\n",
    "# Assuming your training data is loaded into PCA_train and testing data into PCA_test\n",
    "pcaTrain = PCA(n_components=55)\n",
    "pcTrain_scl = StandardScaler()\n",
    "PCA_train = pcTrain_scl.fit_transform(PCA_train)\n",
    "PCA_train = pcaTrain.fit_transform(PCA_train)\n",
    "\n",
    "pcaTest = PCA(n_components=55)\n",
    "pcTest_scl = StandardScaler()\n",
    "PCA_test = pcTest_scl.fit_transform(PCA_test)\n",
    "PCA_test = pcaTest.fit_transform(PCA_test)\n",
    "\n",
    "# Reshape data to have 3 dimensions (samples, timesteps, features)\n",
    "timesteps = 1\n",
    "X_train = PCA_train.reshape((PCA_train.shape[0], timesteps, PCA_train.shape[1]))\n",
    "X_validate = PCA_test.reshape((PCA_test.shape[0], timesteps, PCA_test.shape[1]))\n",
    "\n",
    "# Define your LSTM model\n",
    "model = Sequential()\n",
    "model.add(LSTM(100, input_shape=(timesteps, PCA_train.shape[1])))\n",
    "model.add(Dense(1))\n",
    "\n",
    "# Compile the model with relevant metrics\n",
    "model.compile(optimizer='adam', loss='mean_squared_error', metrics=['mae'])\n",
    "\n",
    "# Train the model\n",
    "history = model.fit(X_train, y_train, epochs=EPOCHS,\n",
    "                    validation_data=(X_validate, y_validate),\n",
    "                    shuffle=False, batch_size=256, verbose=2)\n",
    "\n",
    "# Plot the metrics\n",
    "plt.figure(figsize=(15,10))\n",
    "\n",
    "# Check available metrics\n",
    "print(history.history.keys())\n",
    "\n",
    "# Plot training & validation loss values\n",
    "plt.plot(history.history['loss'], label='train_loss')\n",
    "plt.plot(history.history['val_loss'], label='val_loss')\n",
    "\n",
    "# Plot training & validation MAE values\n",
    "if 'mae' in history.history:\n",
    "    plt.plot(history.history['mae'], label='train_mae')\n",
    "if 'val_mae' in history.history:\n",
    "    plt.plot(history.history['val_mae'], label='val_mae')\n",
    "\n",
    "plt.legend(loc='best')\n",
    "plt.title('Model performance')\n",
    "plt.xlabel('Epochs')\n",
    "plt.ylabel('Metric')\n",
    "plt.show()\n",
    "plt.savefig('Prediction8.png')\n"
   ]
  },
  {
   "cell_type": "markdown",
   "metadata": {
    "id": "LWQeHzFijuTn"
   },
   "source": [
    "### Predicting Test Results"
   ]
  },
  {
   "cell_type": "code",
   "execution_count": 341,
   "metadata": {
    "colab": {
     "base_uri": "https://localhost:8080/"
    },
    "id": "zTwvIkOVjxPK",
    "outputId": "f342324a-d33a-48ee-f978-1812cdd591f6"
   },
   "outputs": [
    {
     "name": "stdout",
     "output_type": "stream",
     "text": [
      "X_test shape: (93, 10, 55)\n",
      "y_test shape: (90, 1)\n",
      "\u001b[1m3/3\u001b[0m \u001b[32m━━━━━━━━━━━━━━━━━━━━\u001b[0m\u001b[37m\u001b[0m \u001b[1m2s\u001b[0m 685ms/step\n",
      "Xt shape: (93, 1)\n"
     ]
    }
   ],
   "source": [
    "def processData(data, lookback, horizon, num_companies):\n",
    "    # Example implementation: adjust according to your data structure\n",
    "    samples = []\n",
    "    targets = []\n",
    "    for i in range(len(data) - lookback - horizon + 1):\n",
    "        sample = data[i:(i + lookback)]\n",
    "        target = data[(i + lookback):(i + lookback + horizon)]\n",
    "        samples.append(sample)\n",
    "        targets.append(target)\n",
    "    \n",
    "    return np.array(samples), np.array(targets)\n",
    "\n",
    "# Example usage\n",
    "lookback = 10\n",
    "horizon = 1\n",
    "num_companies = 1  # Adjust according to your data\n",
    "PCA_test = pcaTest.fit_transform(PCA_test)\n",
    "# PCA_test = np.random.rand(100, 55)  # Example data\n",
    "array_test = np.random.rand(100, 1)  # Example data\n",
    "\n",
    "X_test, void = processData(PCA_test, lookback, horizon, num_companies)\n",
    "void, y_test = processData(array_test, lookback, horizon, num_companies)\n",
    "\n",
    "# Ensure y_test is correctly reshaped\n",
    "y_test = np.array([list(a.ravel()) for a in y_test])\n",
    "\n",
    "print(f'X_test shape: {X_test.shape}')\n",
    "print(f'y_test shape: {y_test.shape}')\n",
    "\n",
    "Xt = model.predict(X_test)\n",
    "print(f'Xt shape: {Xt.shape}')\n"
   ]
  },
  {
   "cell_type": "markdown",
   "metadata": {
    "id": "q-MFu8-Wj26n"
   },
   "source": [
    "### Un-scaling the data and returning data to original shape\n",
    "Because the results were scaled to train the model, the output is non sensible until we return the data into its original form"
   ]
  },
  {
   "cell_type": "code",
   "execution_count": 342,
   "metadata": {
    "id": "YCZa7bH3nrrG"
   },
   "outputs": [],
   "source": [
    "#Aux function 1\n",
    "def do_inverse_transform(output_result,num_companies):\n",
    "    #transform to input shape\n",
    "    original_matrix_format = []\n",
    "    for result in output_result:\n",
    "        #do inverse transform\n",
    "        original_matrix_format.append(scl.inverse_transform([result[x:x+num_companies] for x in range(0, len(result), num_companies)]))\n",
    "    original_matrix_format = np.array(original_matrix_format)\n",
    "    \n",
    "    #restore to original shape\n",
    "    for i in range(len(original_matrix_format)):\n",
    "        output_result[i] = original_matrix_format[i].ravel()\n",
    "\n",
    "    return output_result"
   ]
  },
  {
   "cell_type": "code",
   "execution_count": 343,
   "metadata": {
    "id": "m4IeTsnRoMmt"
   },
   "outputs": [],
   "source": [
    "#Aux function 2\n",
    "def prediction_by_step_by_company(raw_model_output, num_companies):\n",
    "    matrix_prediction = []\n",
    "    for i in range(0,num_companies):\n",
    "        matrix_prediction.append([[lista[j] for j in range(i,len(lista),num_companies)] for lista in raw_model_output])\n",
    "    return np.array(matrix_prediction)"
   ]
  },
  {
   "cell_type": "code",
   "execution_count": 344,
   "metadata": {
    "id": "WUNBSxTNonPf"
   },
   "outputs": [],
   "source": [
    "#Aux function 3\n",
    "def target_by_company(raw_model_output, num_companies):\n",
    "    matrix_target = [[] for x in range(num_companies)]\n",
    "    \n",
    "    for output in raw_model_output:\n",
    "        for i in range (num_companies):\n",
    "            for j in range(0,len(output),num_companies):\n",
    "                matrix_target[i].append(output[i+j])\n",
    "    return np.array(matrix_target)"
   ]
  },
  {
   "cell_type": "code",
   "execution_count": 345,
   "metadata": {
    "colab": {
     "base_uri": "https://localhost:8080/"
    },
    "id": "xUwRD23joasO",
    "outputId": "40d23890-986f-4c3a-a18a-c44567c802b7"
   },
   "outputs": [
    {
     "name": "stdout",
     "output_type": "stream",
     "text": [
      "\u001b[1m3/3\u001b[0m \u001b[32m━━━━━━━━━━━━━━━━━━━━\u001b[0m\u001b[37m\u001b[0m \u001b[1m0s\u001b[0m 6ms/step \n",
      "Xt_transformed shape: (1, 93, 1)\n"
     ]
    }
   ],
   "source": [
    "import numpy as np\n",
    "from sklearn.preprocessing import StandardScaler\n",
    "\n",
    "def do_inverse_transform(predictions, num_companies, scaler):\n",
    "    original_matrix_format = []\n",
    "    for result in predictions:\n",
    "        transformed = np.array([result[x:x + num_companies] for x in range(0, len(result), num_companies)])\n",
    "        if transformed.ndim == 3:\n",
    "            # Reshape to 2D array if necessary\n",
    "            transformed = transformed.reshape(-1, transformed.shape[-1])\n",
    "        original_matrix_format.append(scaler.inverse_transform(transformed))\n",
    "    original_matrix_format = np.array(original_matrix_format)\n",
    "    return original_matrix_format\n",
    "\n",
    "# Example usage:\n",
    "# Replace Xt with your actual transformed data and ensure scl is your fitted StandardScaler\n",
    "Xt = model.predict(X_test)\n",
    "\n",
    "# Xt = np.random.rand(55, 1)  # Example data; replace this with your actual transformed data\n",
    "num_companies = 1  # Adjust based on your data\n",
    "scl = StandardScaler()  # Replace this with your actual fitted StandardScaler\n",
    "scl.fit(Xt)  # Fit the scaler with your data if not already fitted\n",
    "\n",
    "# Ensure Xt has the correct shape\n",
    "Xt_reshaped = Xt.reshape(-1, num_companies)\n",
    "\n",
    "# Use the do_inverse_transform function with the fitted scaler\n",
    "Xt_transformed = do_inverse_transform([Xt_reshaped], num_companies, scl)\n",
    "print(f'Xt_transformed shape: {Xt_transformed.shape}')\n"
   ]
  },
  {
   "cell_type": "code",
   "execution_count": 346,
   "metadata": {
    "colab": {
     "base_uri": "https://localhost:8080/"
    },
    "id": "KwnpZOfKouQ7",
    "outputId": "a3f4c92b-2ee9-47db-f0cd-6d2f75f98c33"
   },
   "outputs": [
    {
     "name": "stdout",
     "output_type": "stream",
     "text": [
      "(55, 1)\n"
     ]
    }
   ],
   "source": [
    "import numpy as np\n",
    "from sklearn.preprocessing import StandardScaler\n",
    "\n",
    "def do_inverse_transform(predictions, num_companies, scaler):\n",
    "    original_matrix_format = []\n",
    "    for result in predictions:\n",
    "        transformed = np.array([result[x:x + num_companies] for x in range(0, len(result), num_companies)])\n",
    "        if transformed.ndim == 3:\n",
    "            transformed = transformed.reshape(-1, transformed.shape[-1])\n",
    "        original_matrix_format.append(scaler.inverse_transform(transformed))\n",
    "    original_matrix_format = np.array(original_matrix_format)\n",
    "    return original_matrix_format\n",
    "\n",
    "\n",
    "def target_by_company(data, num_companies):\n",
    "    reshaped_data = data.reshape(-1, num_companies)\n",
    "    return reshaped_data\n",
    "\n",
    "# Example usage:\n",
    "# Replace y_test with your actual transformed test data\n",
    "y_test = np.random.rand(55, 1)  # Example data; replace this with your actual transformed test data\n",
    "num_companies = 1  # Adjust based on your data\n",
    "scl = StandardScaler()  # Replace this with your actual fitted StandardScaler\n",
    "scl.fit(y_test)  # Fit the scaler with your data if not already fitted\n",
    "\n",
    "# Ensure y_test has the correct shape\n",
    "y_test_reshaped = y_test.reshape(-1, num_companies)\n",
    "\n",
    "# Perform the inverse transformation\n",
    "Yt = do_inverse_transform([y_test_reshaped], num_companies, scl)\n",
    "\n",
    "# Process the transformed data\n",
    "actuals = target_by_company(Yt, num_companies)\n",
    "print(actuals.shape)\n"
   ]
  },
  {
   "cell_type": "markdown",
   "metadata": {
    "id": "8Na0yhNFp0iW"
   },
   "source": [
    "### Prediction Results on Test Data - Plot"
   ]
  },
  {
   "cell_type": "code",
   "execution_count": 347,
   "metadata": {
    "colab": {
     "base_uri": "https://localhost:8080/",
     "height": 593
    },
    "id": "taD2NcrysbYw",
    "outputId": "2426316a-cd07-4d6f-8079-a799ee11bf1c"
   },
   "outputs": [
    {
     "data": {
      "image/png": "[encoded data removed]",
      "text/plain": [
       "<Figure size 640x480 with 1 Axes>"
      ]
     },
     "metadata": {},
     "output_type": "display_data"
    },
    {
     "data": {
      "text/plain": [
       "<Figure size 640x480 with 0 Axes>"
      ]
     },
     "metadata": {},
     "output_type": "display_data"
    }
   ],
   "source": [
    "import matplotlib.pyplot as plt\n",
    "\n",
    "companies_to_show = [0, 1, 2, 3, 4]  # Indices of companies to show\n",
    "colors = ['r', 'g', 'b', 'c', 'm']  # Colors for plotting\n",
    "companies_names = ['AAPL', 'AMD', 'AMZN', 'GOOGL', 'IBM']\n",
    "\n",
    "horizon = 1  # Adjust based on your model's prediction horizon\n",
    "predictions = [\n",
    "    [np.random.randn(10) for _ in range(5)],  # Predictions for company 0\n",
    "    [np.random.randn(10) for _ in range(5)],  # Predictions for company 1\n",
    "    [np.random.randn(10) for _ in range(5)],  # Predictions for company 2\n",
    "    [np.random.randn(10) for _ in range(5)],  # Predictions for company 3\n",
    "    [np.random.randn(10) for _ in range(5)]   # Predictions for company 4\n",
    "]\n",
    "\n",
    "# Plotting the predictions\n",
    "for id_company in companies_to_show:\n",
    "    for i in range(0, len(predictions[id_company])):\n",
    "        plt.plot([x + i*horizon for x in range(len(predictions[id_company][i]))], predictions[id_company][i], color=colors[id_company])\n",
    "    plt.plot(0, predictions[id_company][0][0], color=colors[id_company], label='predict_{}'.format(companies_names[id_company]))  # only to place the label\n",
    "\n",
    "plt.legend()\n",
    "plt.show()\n",
    "plt.savefig('Prediction4.png')\n"
   ]
  },
  {
   "cell_type": "code",
   "execution_count": 348,
   "metadata": {
    "id": "ZQDxv1cYQZlU"
   },
   "outputs": [],
   "source": [
    "full_PCA = np.concatenate((PCA_train,PCA_test),axis = 0)"
   ]
  },
  {
   "cell_type": "code",
   "execution_count": 349,
   "metadata": {
    "id": "ZeFZszhKo9j5"
   },
   "outputs": [
    {
     "name": "stdout",
     "output_type": "stream",
     "text": [
      "(89, 10, 5)\n",
      "(89, 5)\n"
     ]
    }
   ],
   "source": [
    "import numpy as np\n",
    "from sklearn.preprocessing import StandardScaler\n",
    "\n",
    "def processData(data, lookback, horizon, num_companies, step):\n",
    "    X, Y = [], []\n",
    "    for i in range(0, len(data) - lookback - horizon, step):\n",
    "        t = []\n",
    "        for j in range(0, lookback):\n",
    "            t.append(data[(i + j), :num_companies])\n",
    "        X.append(t)\n",
    "        Y.append(data[(i + lookback):(i + lookback + horizon), :num_companies])\n",
    "    return np.array(X), np.array(Y)\n",
    "\n",
    "# Example values for variables (replace with actual values)\n",
    "lookback = 10\n",
    "horizon = 1\n",
    "num_companies = 5\n",
    "\n",
    "full_PCA = np.random.rand(100, num_companies)  # Example PCA data, replace with actual data\n",
    "df_close = np.random.rand(100, num_companies)  # Example close prices data, replace with actual data\n",
    "\n",
    "scl = StandardScaler()\n",
    "df_close_scaled = scl.fit_transform(df_close)\n",
    "\n",
    "X_all, _ = processData(full_PCA, lookback, horizon, num_companies, horizon)\n",
    "_, y_all = processData(df_close_scaled, lookback, horizon, num_companies, horizon)\n",
    "\n",
    "y_all = np.array([a.ravel() for a in y_all])\n",
    "\n",
    "print(X_all.shape)\n",
    "print(y_all.shape)\n"
   ]
  }
 ],
 "metadata": {
  "accelerator": "GPU",
  "colab": {
   "collapsed_sections": [
    "P0nQZTjziHer",
    "LFmXplYiwLEP"
   ],
   "machine_shape": "hm",
   "name": "PCA + LSTM",
   "provenance": [],
   "toc_visible": true
  },
  "kernelspec": {
   "display_name": "Python 3 (ipykernel)",
   "language": "python",
   "name": "python3"
  },
  "language_info": {
   "codemirror_mode": {
    "name": "ipython",
    "version": 3
   },
   "file_extension": ".py",
   "mimetype": "text/x-python",
   "name": "python",
   "nbconvert_exporter": "python",
   "pygments_lexer": "ipython3",
   "version": "3.12.4"
  }
 },
 "nbformat": 4,
 "nbformat_minor": 4
}
